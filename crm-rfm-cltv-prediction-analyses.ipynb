{
 "cells": [
  {
   "cell_type": "markdown",
   "id": "311f0c78",
   "metadata": {
    "papermill": {
     "duration": 0.027736,
     "end_time": "2023-10-22T15:50:58.893222",
     "exception": false,
     "start_time": "2023-10-22T15:50:58.865486",
     "status": "completed"
    },
    "tags": []
   },
   "source": [
    "<h1 style=\"background-color:#C70039; font-family:'Garamond', serif; font-size:4em; font-weight:bold; text-align:center; border-radius:20px; color:white; padding: 20px; border: 2px solid #960018;\"> Customer Personality Analysis </h1>"
   ]
  },
  {
   "cell_type": "markdown",
   "id": "39c0cb0e",
   "metadata": {
    "papermill": {
     "duration": 0.026956,
     "end_time": "2023-10-22T15:50:58.948053",
     "exception": false,
     "start_time": "2023-10-22T15:50:58.921097",
     "status": "completed"
    },
    "tags": []
   },
   "source": [
    "# Content\n",
    "\n",
    "1. [Import Libraries & Loading Data](#1)\n",
    "1. [Looking & Cleaning Data](#2)\n",
    "1. [EDA](#3)\n",
    "1. [RFM Analysis](#4)\n",
    "1. [Customer Life Time Value Prediction (CLTV)](#5)"
   ]
  },
  {
   "cell_type": "markdown",
   "id": "3baa5f53",
   "metadata": {
    "papermill": {
     "duration": 0.027467,
     "end_time": "2023-10-22T15:50:59.004591",
     "exception": false,
     "start_time": "2023-10-22T15:50:58.977124",
     "status": "completed"
    },
    "tags": []
   },
   "source": [
    "<a id = \"1\"></a><br>\n",
    "### <p style=\"font-family:JetBrains Mono; font-weight:bold; letter-spacing: 2px; color:#005b96; font-size:160%; text-align:left;padding: 0px; border-bottom: 3px solid\">Import Libraries & Loading Data</p>"
   ]
  },
  {
   "cell_type": "code",
   "execution_count": 1,
   "id": "edda2080",
   "metadata": {
    "_cell_guid": "b1076dfc-b9ad-4769-8c92-a6c4dae69d19",
    "_uuid": "8f2839f25d086af736a60e9eeb907d3b93b6e0e5",
    "execution": {
     "iopub.execute_input": "2023-10-22T15:50:59.062104Z",
     "iopub.status.busy": "2023-10-22T15:50:59.061268Z",
     "iopub.status.idle": "2023-10-22T15:51:01.348371Z",
     "shell.execute_reply": "2023-10-22T15:51:01.346848Z"
    },
    "papermill": {
     "duration": 2.319588,
     "end_time": "2023-10-22T15:51:01.351608",
     "exception": false,
     "start_time": "2023-10-22T15:50:59.032020",
     "status": "completed"
    },
    "tags": []
   },
   "outputs": [],
   "source": [
    "import numpy as np\n",
    "import pandas as pd\n",
    "import datetime as dt\n",
    "import matplotlib.pyplot as plt\n",
    "import seaborn as sns\n",
    "\n",
    "import warnings\n",
    "from sklearn.exceptions import ConvergenceWarning\n",
    "\n",
    "warnings.filterwarnings(\"ignore\")\n",
    "warnings.filterwarnings(\"ignore\", category=ConvergenceWarning)\n",
    "warnings.filterwarnings(\"ignore\", category=UserWarning)\n",
    "\n",
    "pd.set_option('display.max_columns', None)\n",
    "pd.set_option('display.max_rows', None)\n",
    "pd.set_option('display.float_format', lambda x: '%.4f' % x)"
   ]
  },
  {
   "cell_type": "code",
   "execution_count": 2,
   "id": "a00991c6",
   "metadata": {
    "execution": {
     "iopub.execute_input": "2023-10-22T15:51:01.410645Z",
     "iopub.status.busy": "2023-10-22T15:51:01.409908Z",
     "iopub.status.idle": "2023-10-22T15:51:01.458532Z",
     "shell.execute_reply": "2023-10-22T15:51:01.456930Z"
    },
    "papermill": {
     "duration": 0.081271,
     "end_time": "2023-10-22T15:51:01.461910",
     "exception": false,
     "start_time": "2023-10-22T15:51:01.380639",
     "status": "completed"
    },
    "tags": []
   },
   "outputs": [],
   "source": [
    "data = pd.read_csv(\"/kaggle/input/customer-personality-analysis/marketing_campaign.csv\", sep=\"\\t\")"
   ]
  },
  {
   "cell_type": "code",
   "execution_count": 3,
   "id": "d1b1628c",
   "metadata": {
    "execution": {
     "iopub.execute_input": "2023-10-22T15:51:01.613385Z",
     "iopub.status.busy": "2023-10-22T15:51:01.612897Z",
     "iopub.status.idle": "2023-10-22T15:51:01.618731Z",
     "shell.execute_reply": "2023-10-22T15:51:01.617534Z"
    },
    "papermill": {
     "duration": 0.130856,
     "end_time": "2023-10-22T15:51:01.621091",
     "exception": false,
     "start_time": "2023-10-22T15:51:01.490235",
     "status": "completed"
    },
    "tags": []
   },
   "outputs": [],
   "source": [
    "df = data.copy()"
   ]
  },
  {
   "cell_type": "markdown",
   "id": "76e7d3d2",
   "metadata": {
    "papermill": {
     "duration": 0.027215,
     "end_time": "2023-10-22T15:51:01.675758",
     "exception": false,
     "start_time": "2023-10-22T15:51:01.648543",
     "status": "completed"
    },
    "tags": []
   },
   "source": [
    "<a id = \"2\"></a><br>\n",
    "### <p style=\"font-family:JetBrains Mono; font-weight:bold; letter-spacing: 2px; color:#005b96; font-size:160%; text-align:left;padding: 0px; border-bottom: 3px solid\">Looking & Cleaning Data</p>"
   ]
  },
  {
   "cell_type": "code",
   "execution_count": 4,
   "id": "f0f59a3b",
   "metadata": {
    "execution": {
     "iopub.execute_input": "2023-10-22T15:51:01.733143Z",
     "iopub.status.busy": "2023-10-22T15:51:01.732656Z",
     "iopub.status.idle": "2023-10-22T15:51:01.765902Z",
     "shell.execute_reply": "2023-10-22T15:51:01.764719Z"
    },
    "papermill": {
     "duration": 0.0657,
     "end_time": "2023-10-22T15:51:01.769097",
     "exception": false,
     "start_time": "2023-10-22T15:51:01.703397",
     "status": "completed"
    },
    "tags": []
   },
   "outputs": [
    {
     "name": "stdout",
     "output_type": "stream",
     "text": [
      "<class 'pandas.core.frame.DataFrame'>\n",
      "RangeIndex: 2240 entries, 0 to 2239\n",
      "Data columns (total 29 columns):\n",
      " #   Column               Non-Null Count  Dtype  \n",
      "---  ------               --------------  -----  \n",
      " 0   ID                   2240 non-null   int64  \n",
      " 1   Year_Birth           2240 non-null   int64  \n",
      " 2   Education            2240 non-null   object \n",
      " 3   Marital_Status       2240 non-null   object \n",
      " 4   Income               2216 non-null   float64\n",
      " 5   Kidhome              2240 non-null   int64  \n",
      " 6   Teenhome             2240 non-null   int64  \n",
      " 7   Dt_Customer          2240 non-null   object \n",
      " 8   Recency              2240 non-null   int64  \n",
      " 9   MntWines             2240 non-null   int64  \n",
      " 10  MntFruits            2240 non-null   int64  \n",
      " 11  MntMeatProducts      2240 non-null   int64  \n",
      " 12  MntFishProducts      2240 non-null   int64  \n",
      " 13  MntSweetProducts     2240 non-null   int64  \n",
      " 14  MntGoldProds         2240 non-null   int64  \n",
      " 15  NumDealsPurchases    2240 non-null   int64  \n",
      " 16  NumWebPurchases      2240 non-null   int64  \n",
      " 17  NumCatalogPurchases  2240 non-null   int64  \n",
      " 18  NumStorePurchases    2240 non-null   int64  \n",
      " 19  NumWebVisitsMonth    2240 non-null   int64  \n",
      " 20  AcceptedCmp3         2240 non-null   int64  \n",
      " 21  AcceptedCmp4         2240 non-null   int64  \n",
      " 22  AcceptedCmp5         2240 non-null   int64  \n",
      " 23  AcceptedCmp1         2240 non-null   int64  \n",
      " 24  AcceptedCmp2         2240 non-null   int64  \n",
      " 25  Complain             2240 non-null   int64  \n",
      " 26  Z_CostContact        2240 non-null   int64  \n",
      " 27  Z_Revenue            2240 non-null   int64  \n",
      " 28  Response             2240 non-null   int64  \n",
      "dtypes: float64(1), int64(25), object(3)\n",
      "memory usage: 507.6+ KB\n"
     ]
    }
   ],
   "source": [
    "df.info()"
   ]
  },
  {
   "cell_type": "code",
   "execution_count": 5,
   "id": "74fb8cdc",
   "metadata": {
    "execution": {
     "iopub.execute_input": "2023-10-22T15:51:01.828082Z",
     "iopub.status.busy": "2023-10-22T15:51:01.827579Z",
     "iopub.status.idle": "2023-10-22T15:51:01.837999Z",
     "shell.execute_reply": "2023-10-22T15:51:01.836724Z"
    },
    "papermill": {
     "duration": 0.043461,
     "end_time": "2023-10-22T15:51:01.840527",
     "exception": false,
     "start_time": "2023-10-22T15:51:01.797066",
     "status": "completed"
    },
    "tags": []
   },
   "outputs": [
    {
     "data": {
      "text/plain": [
       "(2240, 29)"
      ]
     },
     "execution_count": 5,
     "metadata": {},
     "output_type": "execute_result"
    }
   ],
   "source": [
    "df.shape"
   ]
  },
  {
   "cell_type": "code",
   "execution_count": 6,
   "id": "031e1849",
   "metadata": {
    "execution": {
     "iopub.execute_input": "2023-10-22T15:51:01.899062Z",
     "iopub.status.busy": "2023-10-22T15:51:01.898550Z",
     "iopub.status.idle": "2023-10-22T15:51:01.987709Z",
     "shell.execute_reply": "2023-10-22T15:51:01.986477Z"
    },
    "papermill": {
     "duration": 0.122098,
     "end_time": "2023-10-22T15:51:01.990720",
     "exception": false,
     "start_time": "2023-10-22T15:51:01.868622",
     "status": "completed"
    },
    "tags": []
   },
   "outputs": [
    {
     "data": {
      "text/html": [
       "<div>\n",
       "<style scoped>\n",
       "    .dataframe tbody tr th:only-of-type {\n",
       "        vertical-align: middle;\n",
       "    }\n",
       "\n",
       "    .dataframe tbody tr th {\n",
       "        vertical-align: top;\n",
       "    }\n",
       "\n",
       "    .dataframe thead th {\n",
       "        text-align: right;\n",
       "    }\n",
       "</style>\n",
       "<table border=\"1\" class=\"dataframe\">\n",
       "  <thead>\n",
       "    <tr style=\"text-align: right;\">\n",
       "      <th></th>\n",
       "      <th>count</th>\n",
       "      <th>mean</th>\n",
       "      <th>std</th>\n",
       "      <th>min</th>\n",
       "      <th>25%</th>\n",
       "      <th>50%</th>\n",
       "      <th>75%</th>\n",
       "      <th>max</th>\n",
       "    </tr>\n",
       "  </thead>\n",
       "  <tbody>\n",
       "    <tr>\n",
       "      <th>ID</th>\n",
       "      <td>2240.0000</td>\n",
       "      <td>5592.1598</td>\n",
       "      <td>3246.6622</td>\n",
       "      <td>0.0000</td>\n",
       "      <td>2828.2500</td>\n",
       "      <td>5458.5000</td>\n",
       "      <td>8427.7500</td>\n",
       "      <td>11191.0000</td>\n",
       "    </tr>\n",
       "    <tr>\n",
       "      <th>Year_Birth</th>\n",
       "      <td>2240.0000</td>\n",
       "      <td>1968.8058</td>\n",
       "      <td>11.9841</td>\n",
       "      <td>1893.0000</td>\n",
       "      <td>1959.0000</td>\n",
       "      <td>1970.0000</td>\n",
       "      <td>1977.0000</td>\n",
       "      <td>1996.0000</td>\n",
       "    </tr>\n",
       "    <tr>\n",
       "      <th>Income</th>\n",
       "      <td>2216.0000</td>\n",
       "      <td>52247.2514</td>\n",
       "      <td>25173.0767</td>\n",
       "      <td>1730.0000</td>\n",
       "      <td>35303.0000</td>\n",
       "      <td>51381.5000</td>\n",
       "      <td>68522.0000</td>\n",
       "      <td>666666.0000</td>\n",
       "    </tr>\n",
       "    <tr>\n",
       "      <th>Kidhome</th>\n",
       "      <td>2240.0000</td>\n",
       "      <td>0.4442</td>\n",
       "      <td>0.5384</td>\n",
       "      <td>0.0000</td>\n",
       "      <td>0.0000</td>\n",
       "      <td>0.0000</td>\n",
       "      <td>1.0000</td>\n",
       "      <td>2.0000</td>\n",
       "    </tr>\n",
       "    <tr>\n",
       "      <th>Teenhome</th>\n",
       "      <td>2240.0000</td>\n",
       "      <td>0.5062</td>\n",
       "      <td>0.5445</td>\n",
       "      <td>0.0000</td>\n",
       "      <td>0.0000</td>\n",
       "      <td>0.0000</td>\n",
       "      <td>1.0000</td>\n",
       "      <td>2.0000</td>\n",
       "    </tr>\n",
       "    <tr>\n",
       "      <th>Recency</th>\n",
       "      <td>2240.0000</td>\n",
       "      <td>49.1094</td>\n",
       "      <td>28.9625</td>\n",
       "      <td>0.0000</td>\n",
       "      <td>24.0000</td>\n",
       "      <td>49.0000</td>\n",
       "      <td>74.0000</td>\n",
       "      <td>99.0000</td>\n",
       "    </tr>\n",
       "    <tr>\n",
       "      <th>MntWines</th>\n",
       "      <td>2240.0000</td>\n",
       "      <td>303.9357</td>\n",
       "      <td>336.5974</td>\n",
       "      <td>0.0000</td>\n",
       "      <td>23.7500</td>\n",
       "      <td>173.5000</td>\n",
       "      <td>504.2500</td>\n",
       "      <td>1493.0000</td>\n",
       "    </tr>\n",
       "    <tr>\n",
       "      <th>MntFruits</th>\n",
       "      <td>2240.0000</td>\n",
       "      <td>26.3022</td>\n",
       "      <td>39.7734</td>\n",
       "      <td>0.0000</td>\n",
       "      <td>1.0000</td>\n",
       "      <td>8.0000</td>\n",
       "      <td>33.0000</td>\n",
       "      <td>199.0000</td>\n",
       "    </tr>\n",
       "    <tr>\n",
       "      <th>MntMeatProducts</th>\n",
       "      <td>2240.0000</td>\n",
       "      <td>166.9500</td>\n",
       "      <td>225.7154</td>\n",
       "      <td>0.0000</td>\n",
       "      <td>16.0000</td>\n",
       "      <td>67.0000</td>\n",
       "      <td>232.0000</td>\n",
       "      <td>1725.0000</td>\n",
       "    </tr>\n",
       "    <tr>\n",
       "      <th>MntFishProducts</th>\n",
       "      <td>2240.0000</td>\n",
       "      <td>37.5254</td>\n",
       "      <td>54.6290</td>\n",
       "      <td>0.0000</td>\n",
       "      <td>3.0000</td>\n",
       "      <td>12.0000</td>\n",
       "      <td>50.0000</td>\n",
       "      <td>259.0000</td>\n",
       "    </tr>\n",
       "    <tr>\n",
       "      <th>MntSweetProducts</th>\n",
       "      <td>2240.0000</td>\n",
       "      <td>27.0629</td>\n",
       "      <td>41.2805</td>\n",
       "      <td>0.0000</td>\n",
       "      <td>1.0000</td>\n",
       "      <td>8.0000</td>\n",
       "      <td>33.0000</td>\n",
       "      <td>263.0000</td>\n",
       "    </tr>\n",
       "    <tr>\n",
       "      <th>MntGoldProds</th>\n",
       "      <td>2240.0000</td>\n",
       "      <td>44.0219</td>\n",
       "      <td>52.1674</td>\n",
       "      <td>0.0000</td>\n",
       "      <td>9.0000</td>\n",
       "      <td>24.0000</td>\n",
       "      <td>56.0000</td>\n",
       "      <td>362.0000</td>\n",
       "    </tr>\n",
       "    <tr>\n",
       "      <th>NumDealsPurchases</th>\n",
       "      <td>2240.0000</td>\n",
       "      <td>2.3250</td>\n",
       "      <td>1.9322</td>\n",
       "      <td>0.0000</td>\n",
       "      <td>1.0000</td>\n",
       "      <td>2.0000</td>\n",
       "      <td>3.0000</td>\n",
       "      <td>15.0000</td>\n",
       "    </tr>\n",
       "    <tr>\n",
       "      <th>NumWebPurchases</th>\n",
       "      <td>2240.0000</td>\n",
       "      <td>4.0848</td>\n",
       "      <td>2.7787</td>\n",
       "      <td>0.0000</td>\n",
       "      <td>2.0000</td>\n",
       "      <td>4.0000</td>\n",
       "      <td>6.0000</td>\n",
       "      <td>27.0000</td>\n",
       "    </tr>\n",
       "    <tr>\n",
       "      <th>NumCatalogPurchases</th>\n",
       "      <td>2240.0000</td>\n",
       "      <td>2.6621</td>\n",
       "      <td>2.9231</td>\n",
       "      <td>0.0000</td>\n",
       "      <td>0.0000</td>\n",
       "      <td>2.0000</td>\n",
       "      <td>4.0000</td>\n",
       "      <td>28.0000</td>\n",
       "    </tr>\n",
       "    <tr>\n",
       "      <th>NumStorePurchases</th>\n",
       "      <td>2240.0000</td>\n",
       "      <td>5.7902</td>\n",
       "      <td>3.2510</td>\n",
       "      <td>0.0000</td>\n",
       "      <td>3.0000</td>\n",
       "      <td>5.0000</td>\n",
       "      <td>8.0000</td>\n",
       "      <td>13.0000</td>\n",
       "    </tr>\n",
       "    <tr>\n",
       "      <th>NumWebVisitsMonth</th>\n",
       "      <td>2240.0000</td>\n",
       "      <td>5.3165</td>\n",
       "      <td>2.4266</td>\n",
       "      <td>0.0000</td>\n",
       "      <td>3.0000</td>\n",
       "      <td>6.0000</td>\n",
       "      <td>7.0000</td>\n",
       "      <td>20.0000</td>\n",
       "    </tr>\n",
       "    <tr>\n",
       "      <th>AcceptedCmp3</th>\n",
       "      <td>2240.0000</td>\n",
       "      <td>0.0728</td>\n",
       "      <td>0.2598</td>\n",
       "      <td>0.0000</td>\n",
       "      <td>0.0000</td>\n",
       "      <td>0.0000</td>\n",
       "      <td>0.0000</td>\n",
       "      <td>1.0000</td>\n",
       "    </tr>\n",
       "    <tr>\n",
       "      <th>AcceptedCmp4</th>\n",
       "      <td>2240.0000</td>\n",
       "      <td>0.0746</td>\n",
       "      <td>0.2627</td>\n",
       "      <td>0.0000</td>\n",
       "      <td>0.0000</td>\n",
       "      <td>0.0000</td>\n",
       "      <td>0.0000</td>\n",
       "      <td>1.0000</td>\n",
       "    </tr>\n",
       "    <tr>\n",
       "      <th>AcceptedCmp5</th>\n",
       "      <td>2240.0000</td>\n",
       "      <td>0.0728</td>\n",
       "      <td>0.2598</td>\n",
       "      <td>0.0000</td>\n",
       "      <td>0.0000</td>\n",
       "      <td>0.0000</td>\n",
       "      <td>0.0000</td>\n",
       "      <td>1.0000</td>\n",
       "    </tr>\n",
       "    <tr>\n",
       "      <th>AcceptedCmp1</th>\n",
       "      <td>2240.0000</td>\n",
       "      <td>0.0643</td>\n",
       "      <td>0.2453</td>\n",
       "      <td>0.0000</td>\n",
       "      <td>0.0000</td>\n",
       "      <td>0.0000</td>\n",
       "      <td>0.0000</td>\n",
       "      <td>1.0000</td>\n",
       "    </tr>\n",
       "    <tr>\n",
       "      <th>AcceptedCmp2</th>\n",
       "      <td>2240.0000</td>\n",
       "      <td>0.0134</td>\n",
       "      <td>0.1150</td>\n",
       "      <td>0.0000</td>\n",
       "      <td>0.0000</td>\n",
       "      <td>0.0000</td>\n",
       "      <td>0.0000</td>\n",
       "      <td>1.0000</td>\n",
       "    </tr>\n",
       "    <tr>\n",
       "      <th>Complain</th>\n",
       "      <td>2240.0000</td>\n",
       "      <td>0.0094</td>\n",
       "      <td>0.0964</td>\n",
       "      <td>0.0000</td>\n",
       "      <td>0.0000</td>\n",
       "      <td>0.0000</td>\n",
       "      <td>0.0000</td>\n",
       "      <td>1.0000</td>\n",
       "    </tr>\n",
       "    <tr>\n",
       "      <th>Z_CostContact</th>\n",
       "      <td>2240.0000</td>\n",
       "      <td>3.0000</td>\n",
       "      <td>0.0000</td>\n",
       "      <td>3.0000</td>\n",
       "      <td>3.0000</td>\n",
       "      <td>3.0000</td>\n",
       "      <td>3.0000</td>\n",
       "      <td>3.0000</td>\n",
       "    </tr>\n",
       "    <tr>\n",
       "      <th>Z_Revenue</th>\n",
       "      <td>2240.0000</td>\n",
       "      <td>11.0000</td>\n",
       "      <td>0.0000</td>\n",
       "      <td>11.0000</td>\n",
       "      <td>11.0000</td>\n",
       "      <td>11.0000</td>\n",
       "      <td>11.0000</td>\n",
       "      <td>11.0000</td>\n",
       "    </tr>\n",
       "    <tr>\n",
       "      <th>Response</th>\n",
       "      <td>2240.0000</td>\n",
       "      <td>0.1491</td>\n",
       "      <td>0.3563</td>\n",
       "      <td>0.0000</td>\n",
       "      <td>0.0000</td>\n",
       "      <td>0.0000</td>\n",
       "      <td>0.0000</td>\n",
       "      <td>1.0000</td>\n",
       "    </tr>\n",
       "  </tbody>\n",
       "</table>\n",
       "</div>"
      ],
      "text/plain": [
       "                        count       mean        std       min        25%  \\\n",
       "ID                  2240.0000  5592.1598  3246.6622    0.0000  2828.2500   \n",
       "Year_Birth          2240.0000  1968.8058    11.9841 1893.0000  1959.0000   \n",
       "Income              2216.0000 52247.2514 25173.0767 1730.0000 35303.0000   \n",
       "Kidhome             2240.0000     0.4442     0.5384    0.0000     0.0000   \n",
       "Teenhome            2240.0000     0.5062     0.5445    0.0000     0.0000   \n",
       "Recency             2240.0000    49.1094    28.9625    0.0000    24.0000   \n",
       "MntWines            2240.0000   303.9357   336.5974    0.0000    23.7500   \n",
       "MntFruits           2240.0000    26.3022    39.7734    0.0000     1.0000   \n",
       "MntMeatProducts     2240.0000   166.9500   225.7154    0.0000    16.0000   \n",
       "MntFishProducts     2240.0000    37.5254    54.6290    0.0000     3.0000   \n",
       "MntSweetProducts    2240.0000    27.0629    41.2805    0.0000     1.0000   \n",
       "MntGoldProds        2240.0000    44.0219    52.1674    0.0000     9.0000   \n",
       "NumDealsPurchases   2240.0000     2.3250     1.9322    0.0000     1.0000   \n",
       "NumWebPurchases     2240.0000     4.0848     2.7787    0.0000     2.0000   \n",
       "NumCatalogPurchases 2240.0000     2.6621     2.9231    0.0000     0.0000   \n",
       "NumStorePurchases   2240.0000     5.7902     3.2510    0.0000     3.0000   \n",
       "NumWebVisitsMonth   2240.0000     5.3165     2.4266    0.0000     3.0000   \n",
       "AcceptedCmp3        2240.0000     0.0728     0.2598    0.0000     0.0000   \n",
       "AcceptedCmp4        2240.0000     0.0746     0.2627    0.0000     0.0000   \n",
       "AcceptedCmp5        2240.0000     0.0728     0.2598    0.0000     0.0000   \n",
       "AcceptedCmp1        2240.0000     0.0643     0.2453    0.0000     0.0000   \n",
       "AcceptedCmp2        2240.0000     0.0134     0.1150    0.0000     0.0000   \n",
       "Complain            2240.0000     0.0094     0.0964    0.0000     0.0000   \n",
       "Z_CostContact       2240.0000     3.0000     0.0000    3.0000     3.0000   \n",
       "Z_Revenue           2240.0000    11.0000     0.0000   11.0000    11.0000   \n",
       "Response            2240.0000     0.1491     0.3563    0.0000     0.0000   \n",
       "\n",
       "                           50%        75%         max  \n",
       "ID                   5458.5000  8427.7500  11191.0000  \n",
       "Year_Birth           1970.0000  1977.0000   1996.0000  \n",
       "Income              51381.5000 68522.0000 666666.0000  \n",
       "Kidhome                 0.0000     1.0000      2.0000  \n",
       "Teenhome                0.0000     1.0000      2.0000  \n",
       "Recency                49.0000    74.0000     99.0000  \n",
       "MntWines              173.5000   504.2500   1493.0000  \n",
       "MntFruits               8.0000    33.0000    199.0000  \n",
       "MntMeatProducts        67.0000   232.0000   1725.0000  \n",
       "MntFishProducts        12.0000    50.0000    259.0000  \n",
       "MntSweetProducts        8.0000    33.0000    263.0000  \n",
       "MntGoldProds           24.0000    56.0000    362.0000  \n",
       "NumDealsPurchases       2.0000     3.0000     15.0000  \n",
       "NumWebPurchases         4.0000     6.0000     27.0000  \n",
       "NumCatalogPurchases     2.0000     4.0000     28.0000  \n",
       "NumStorePurchases       5.0000     8.0000     13.0000  \n",
       "NumWebVisitsMonth       6.0000     7.0000     20.0000  \n",
       "AcceptedCmp3            0.0000     0.0000      1.0000  \n",
       "AcceptedCmp4            0.0000     0.0000      1.0000  \n",
       "AcceptedCmp5            0.0000     0.0000      1.0000  \n",
       "AcceptedCmp1            0.0000     0.0000      1.0000  \n",
       "AcceptedCmp2            0.0000     0.0000      1.0000  \n",
       "Complain                0.0000     0.0000      1.0000  \n",
       "Z_CostContact           3.0000     3.0000      3.0000  \n",
       "Z_Revenue              11.0000    11.0000     11.0000  \n",
       "Response                0.0000     0.0000      1.0000  "
      ]
     },
     "execution_count": 6,
     "metadata": {},
     "output_type": "execute_result"
    }
   ],
   "source": [
    "df.describe().T"
   ]
  },
  {
   "cell_type": "markdown",
   "id": "31c67348",
   "metadata": {
    "papermill": {
     "duration": 0.028778,
     "end_time": "2023-10-22T15:51:02.048333",
     "exception": false,
     "start_time": "2023-10-22T15:51:02.019555",
     "status": "completed"
    },
    "tags": []
   },
   "source": [
    "<div style=\"border-radius:10px; border:#6B8BA0 solid; padding: 15px; background-color: #F2EADF; font-size:100%; text-align:left\">\n",
    "\n",
    "<h3 align=\"left\"><font color='#6B8BA0'>👀 Features: </font></h3>\n",
    "    \n",
    "**People (Customer Information)**\n",
    "    \n",
    "1. **ID**: Unique identifier of the customer.\n",
    "1. **Year_Birth**: Birth year of the customer.\n",
    "1. **Education**: Education level of the customer.\n",
    "1. **Marital_Status**: Marital status of the customer.\n",
    "1. **Income**: Yearly household income of the customer.\n",
    "1. **Kidhome**: Number of children in the customer's household.\n",
    "1. **Teenhome**: Number of teenagers in the customer's household.\n",
    "1. **Dt_Customer**: Date of customer's enrollment with the company.\n",
    "1. **Recency**: Number of days since the customer's last purchase.\n",
    "1. **Complain**: 1 if the customer complained in the last 2 years, 0 otherwise.\n",
    "    \n",
    "**Products (Product Information)**\n",
    "    \n",
    "1. **MntWines**: Amount spent on wine in the last 2 years.\n",
    "1. **MntFruits**: Amount spent on fruits in the last 2 years.\n",
    "1. **MntMeatProducts**: Amount spent on meat in the last 2 years.\n",
    "1. **MntFishProducts**: Amount spent on fish in the last 2 years.\n",
    "1. **MntSweetProducts**: Amount spent on sweets in the last 2 years.\n",
    "1. **MntGoldProds**: Amount spent on gold in the last 2 years.\n",
    "    \n",
    "**Promotion (Promotional Information)**\n",
    "    \n",
    "1. **NumDealsPurchases**: Number of purchases made with a discount.\n",
    "1. **AcceptedCmp1**: 1 if the customer accepted the offer in the 1st campaign, 0 otherwise.\n",
    "1. **AcceptedCmp2**: 1 if the customer accepted the offer in the 2nd campaign, 0 otherwise.\n",
    "1. **AcceptedCmp3**: 1 if the customer accepted the offer in the 3rd campaign, 0 otherwise.\n",
    "1. **AcceptedCmp4**: 1 if the customer accepted the offer in the 4th campaign, 0 otherwise.\n",
    "1. **AcceptedCmp5**: 1 if the customer accepted the offer in the 5th campaign, 0 otherwise.\n",
    "1. **Response**: 1 if the customer accepted the offer in the last campaign, 0 otherwise.\n",
    "    \n",
    "**Place (Purchase Location Information)**\n",
    "    \n",
    "1. **NumWebPurchases**: Number of purchases made through the company’s website.\n",
    "1. **NumCatalogPurchases**: Number of purchases made using a catalogue.\n",
    "1. **NumStorePurchases**: Number of purchases made directly in stores.\n",
    "1. **NumWebVisitsMonth**: Number of visits to the company’s website in the last month."
   ]
  },
  {
   "cell_type": "code",
   "execution_count": 7,
   "id": "ce14d326",
   "metadata": {
    "execution": {
     "iopub.execute_input": "2023-10-22T15:51:02.109340Z",
     "iopub.status.busy": "2023-10-22T15:51:02.108786Z",
     "iopub.status.idle": "2023-10-22T15:51:02.138106Z",
     "shell.execute_reply": "2023-10-22T15:51:02.137227Z"
    },
    "papermill": {
     "duration": 0.062293,
     "end_time": "2023-10-22T15:51:02.140455",
     "exception": false,
     "start_time": "2023-10-22T15:51:02.078162",
     "status": "completed"
    },
    "tags": []
   },
   "outputs": [
    {
     "data": {
      "text/html": [
       "<div>\n",
       "<style scoped>\n",
       "    .dataframe tbody tr th:only-of-type {\n",
       "        vertical-align: middle;\n",
       "    }\n",
       "\n",
       "    .dataframe tbody tr th {\n",
       "        vertical-align: top;\n",
       "    }\n",
       "\n",
       "    .dataframe thead th {\n",
       "        text-align: right;\n",
       "    }\n",
       "</style>\n",
       "<table border=\"1\" class=\"dataframe\">\n",
       "  <thead>\n",
       "    <tr style=\"text-align: right;\">\n",
       "      <th></th>\n",
       "      <th>ID</th>\n",
       "      <th>Year_Birth</th>\n",
       "      <th>Education</th>\n",
       "      <th>Marital_Status</th>\n",
       "      <th>Income</th>\n",
       "      <th>Kidhome</th>\n",
       "      <th>Teenhome</th>\n",
       "      <th>Dt_Customer</th>\n",
       "      <th>Recency</th>\n",
       "      <th>MntWines</th>\n",
       "      <th>MntFruits</th>\n",
       "      <th>MntMeatProducts</th>\n",
       "      <th>MntFishProducts</th>\n",
       "      <th>MntSweetProducts</th>\n",
       "      <th>MntGoldProds</th>\n",
       "      <th>NumDealsPurchases</th>\n",
       "      <th>NumWebPurchases</th>\n",
       "      <th>NumCatalogPurchases</th>\n",
       "      <th>NumStorePurchases</th>\n",
       "      <th>NumWebVisitsMonth</th>\n",
       "      <th>AcceptedCmp3</th>\n",
       "      <th>AcceptedCmp4</th>\n",
       "      <th>AcceptedCmp5</th>\n",
       "      <th>AcceptedCmp1</th>\n",
       "      <th>AcceptedCmp2</th>\n",
       "      <th>Complain</th>\n",
       "      <th>Z_CostContact</th>\n",
       "      <th>Z_Revenue</th>\n",
       "      <th>Response</th>\n",
       "    </tr>\n",
       "  </thead>\n",
       "  <tbody>\n",
       "    <tr>\n",
       "      <th>0</th>\n",
       "      <td>5524</td>\n",
       "      <td>1957</td>\n",
       "      <td>Graduation</td>\n",
       "      <td>Single</td>\n",
       "      <td>58138.0000</td>\n",
       "      <td>0</td>\n",
       "      <td>0</td>\n",
       "      <td>04-09-2012</td>\n",
       "      <td>58</td>\n",
       "      <td>635</td>\n",
       "      <td>88</td>\n",
       "      <td>546</td>\n",
       "      <td>172</td>\n",
       "      <td>88</td>\n",
       "      <td>88</td>\n",
       "      <td>3</td>\n",
       "      <td>8</td>\n",
       "      <td>10</td>\n",
       "      <td>4</td>\n",
       "      <td>7</td>\n",
       "      <td>0</td>\n",
       "      <td>0</td>\n",
       "      <td>0</td>\n",
       "      <td>0</td>\n",
       "      <td>0</td>\n",
       "      <td>0</td>\n",
       "      <td>3</td>\n",
       "      <td>11</td>\n",
       "      <td>1</td>\n",
       "    </tr>\n",
       "    <tr>\n",
       "      <th>1</th>\n",
       "      <td>2174</td>\n",
       "      <td>1954</td>\n",
       "      <td>Graduation</td>\n",
       "      <td>Single</td>\n",
       "      <td>46344.0000</td>\n",
       "      <td>1</td>\n",
       "      <td>1</td>\n",
       "      <td>08-03-2014</td>\n",
       "      <td>38</td>\n",
       "      <td>11</td>\n",
       "      <td>1</td>\n",
       "      <td>6</td>\n",
       "      <td>2</td>\n",
       "      <td>1</td>\n",
       "      <td>6</td>\n",
       "      <td>2</td>\n",
       "      <td>1</td>\n",
       "      <td>1</td>\n",
       "      <td>2</td>\n",
       "      <td>5</td>\n",
       "      <td>0</td>\n",
       "      <td>0</td>\n",
       "      <td>0</td>\n",
       "      <td>0</td>\n",
       "      <td>0</td>\n",
       "      <td>0</td>\n",
       "      <td>3</td>\n",
       "      <td>11</td>\n",
       "      <td>0</td>\n",
       "    </tr>\n",
       "    <tr>\n",
       "      <th>2</th>\n",
       "      <td>4141</td>\n",
       "      <td>1965</td>\n",
       "      <td>Graduation</td>\n",
       "      <td>Together</td>\n",
       "      <td>71613.0000</td>\n",
       "      <td>0</td>\n",
       "      <td>0</td>\n",
       "      <td>21-08-2013</td>\n",
       "      <td>26</td>\n",
       "      <td>426</td>\n",
       "      <td>49</td>\n",
       "      <td>127</td>\n",
       "      <td>111</td>\n",
       "      <td>21</td>\n",
       "      <td>42</td>\n",
       "      <td>1</td>\n",
       "      <td>8</td>\n",
       "      <td>2</td>\n",
       "      <td>10</td>\n",
       "      <td>4</td>\n",
       "      <td>0</td>\n",
       "      <td>0</td>\n",
       "      <td>0</td>\n",
       "      <td>0</td>\n",
       "      <td>0</td>\n",
       "      <td>0</td>\n",
       "      <td>3</td>\n",
       "      <td>11</td>\n",
       "      <td>0</td>\n",
       "    </tr>\n",
       "    <tr>\n",
       "      <th>3</th>\n",
       "      <td>6182</td>\n",
       "      <td>1984</td>\n",
       "      <td>Graduation</td>\n",
       "      <td>Together</td>\n",
       "      <td>26646.0000</td>\n",
       "      <td>1</td>\n",
       "      <td>0</td>\n",
       "      <td>10-02-2014</td>\n",
       "      <td>26</td>\n",
       "      <td>11</td>\n",
       "      <td>4</td>\n",
       "      <td>20</td>\n",
       "      <td>10</td>\n",
       "      <td>3</td>\n",
       "      <td>5</td>\n",
       "      <td>2</td>\n",
       "      <td>2</td>\n",
       "      <td>0</td>\n",
       "      <td>4</td>\n",
       "      <td>6</td>\n",
       "      <td>0</td>\n",
       "      <td>0</td>\n",
       "      <td>0</td>\n",
       "      <td>0</td>\n",
       "      <td>0</td>\n",
       "      <td>0</td>\n",
       "      <td>3</td>\n",
       "      <td>11</td>\n",
       "      <td>0</td>\n",
       "    </tr>\n",
       "    <tr>\n",
       "      <th>4</th>\n",
       "      <td>5324</td>\n",
       "      <td>1981</td>\n",
       "      <td>PhD</td>\n",
       "      <td>Married</td>\n",
       "      <td>58293.0000</td>\n",
       "      <td>1</td>\n",
       "      <td>0</td>\n",
       "      <td>19-01-2014</td>\n",
       "      <td>94</td>\n",
       "      <td>173</td>\n",
       "      <td>43</td>\n",
       "      <td>118</td>\n",
       "      <td>46</td>\n",
       "      <td>27</td>\n",
       "      <td>15</td>\n",
       "      <td>5</td>\n",
       "      <td>5</td>\n",
       "      <td>3</td>\n",
       "      <td>6</td>\n",
       "      <td>5</td>\n",
       "      <td>0</td>\n",
       "      <td>0</td>\n",
       "      <td>0</td>\n",
       "      <td>0</td>\n",
       "      <td>0</td>\n",
       "      <td>0</td>\n",
       "      <td>3</td>\n",
       "      <td>11</td>\n",
       "      <td>0</td>\n",
       "    </tr>\n",
       "    <tr>\n",
       "      <th>5</th>\n",
       "      <td>7446</td>\n",
       "      <td>1967</td>\n",
       "      <td>Master</td>\n",
       "      <td>Together</td>\n",
       "      <td>62513.0000</td>\n",
       "      <td>0</td>\n",
       "      <td>1</td>\n",
       "      <td>09-09-2013</td>\n",
       "      <td>16</td>\n",
       "      <td>520</td>\n",
       "      <td>42</td>\n",
       "      <td>98</td>\n",
       "      <td>0</td>\n",
       "      <td>42</td>\n",
       "      <td>14</td>\n",
       "      <td>2</td>\n",
       "      <td>6</td>\n",
       "      <td>4</td>\n",
       "      <td>10</td>\n",
       "      <td>6</td>\n",
       "      <td>0</td>\n",
       "      <td>0</td>\n",
       "      <td>0</td>\n",
       "      <td>0</td>\n",
       "      <td>0</td>\n",
       "      <td>0</td>\n",
       "      <td>3</td>\n",
       "      <td>11</td>\n",
       "      <td>0</td>\n",
       "    </tr>\n",
       "    <tr>\n",
       "      <th>6</th>\n",
       "      <td>965</td>\n",
       "      <td>1971</td>\n",
       "      <td>Graduation</td>\n",
       "      <td>Divorced</td>\n",
       "      <td>55635.0000</td>\n",
       "      <td>0</td>\n",
       "      <td>1</td>\n",
       "      <td>13-11-2012</td>\n",
       "      <td>34</td>\n",
       "      <td>235</td>\n",
       "      <td>65</td>\n",
       "      <td>164</td>\n",
       "      <td>50</td>\n",
       "      <td>49</td>\n",
       "      <td>27</td>\n",
       "      <td>4</td>\n",
       "      <td>7</td>\n",
       "      <td>3</td>\n",
       "      <td>7</td>\n",
       "      <td>6</td>\n",
       "      <td>0</td>\n",
       "      <td>0</td>\n",
       "      <td>0</td>\n",
       "      <td>0</td>\n",
       "      <td>0</td>\n",
       "      <td>0</td>\n",
       "      <td>3</td>\n",
       "      <td>11</td>\n",
       "      <td>0</td>\n",
       "    </tr>\n",
       "    <tr>\n",
       "      <th>7</th>\n",
       "      <td>6177</td>\n",
       "      <td>1985</td>\n",
       "      <td>PhD</td>\n",
       "      <td>Married</td>\n",
       "      <td>33454.0000</td>\n",
       "      <td>1</td>\n",
       "      <td>0</td>\n",
       "      <td>08-05-2013</td>\n",
       "      <td>32</td>\n",
       "      <td>76</td>\n",
       "      <td>10</td>\n",
       "      <td>56</td>\n",
       "      <td>3</td>\n",
       "      <td>1</td>\n",
       "      <td>23</td>\n",
       "      <td>2</td>\n",
       "      <td>4</td>\n",
       "      <td>0</td>\n",
       "      <td>4</td>\n",
       "      <td>8</td>\n",
       "      <td>0</td>\n",
       "      <td>0</td>\n",
       "      <td>0</td>\n",
       "      <td>0</td>\n",
       "      <td>0</td>\n",
       "      <td>0</td>\n",
       "      <td>3</td>\n",
       "      <td>11</td>\n",
       "      <td>0</td>\n",
       "    </tr>\n",
       "    <tr>\n",
       "      <th>8</th>\n",
       "      <td>4855</td>\n",
       "      <td>1974</td>\n",
       "      <td>PhD</td>\n",
       "      <td>Together</td>\n",
       "      <td>30351.0000</td>\n",
       "      <td>1</td>\n",
       "      <td>0</td>\n",
       "      <td>06-06-2013</td>\n",
       "      <td>19</td>\n",
       "      <td>14</td>\n",
       "      <td>0</td>\n",
       "      <td>24</td>\n",
       "      <td>3</td>\n",
       "      <td>3</td>\n",
       "      <td>2</td>\n",
       "      <td>1</td>\n",
       "      <td>3</td>\n",
       "      <td>0</td>\n",
       "      <td>2</td>\n",
       "      <td>9</td>\n",
       "      <td>0</td>\n",
       "      <td>0</td>\n",
       "      <td>0</td>\n",
       "      <td>0</td>\n",
       "      <td>0</td>\n",
       "      <td>0</td>\n",
       "      <td>3</td>\n",
       "      <td>11</td>\n",
       "      <td>1</td>\n",
       "    </tr>\n",
       "    <tr>\n",
       "      <th>9</th>\n",
       "      <td>5899</td>\n",
       "      <td>1950</td>\n",
       "      <td>PhD</td>\n",
       "      <td>Together</td>\n",
       "      <td>5648.0000</td>\n",
       "      <td>1</td>\n",
       "      <td>1</td>\n",
       "      <td>13-03-2014</td>\n",
       "      <td>68</td>\n",
       "      <td>28</td>\n",
       "      <td>0</td>\n",
       "      <td>6</td>\n",
       "      <td>1</td>\n",
       "      <td>1</td>\n",
       "      <td>13</td>\n",
       "      <td>1</td>\n",
       "      <td>1</td>\n",
       "      <td>0</td>\n",
       "      <td>0</td>\n",
       "      <td>20</td>\n",
       "      <td>1</td>\n",
       "      <td>0</td>\n",
       "      <td>0</td>\n",
       "      <td>0</td>\n",
       "      <td>0</td>\n",
       "      <td>0</td>\n",
       "      <td>3</td>\n",
       "      <td>11</td>\n",
       "      <td>0</td>\n",
       "    </tr>\n",
       "  </tbody>\n",
       "</table>\n",
       "</div>"
      ],
      "text/plain": [
       "     ID  Year_Birth   Education Marital_Status     Income  Kidhome  Teenhome  \\\n",
       "0  5524        1957  Graduation         Single 58138.0000        0         0   \n",
       "1  2174        1954  Graduation         Single 46344.0000        1         1   \n",
       "2  4141        1965  Graduation       Together 71613.0000        0         0   \n",
       "3  6182        1984  Graduation       Together 26646.0000        1         0   \n",
       "4  5324        1981         PhD        Married 58293.0000        1         0   \n",
       "5  7446        1967      Master       Together 62513.0000        0         1   \n",
       "6   965        1971  Graduation       Divorced 55635.0000        0         1   \n",
       "7  6177        1985         PhD        Married 33454.0000        1         0   \n",
       "8  4855        1974         PhD       Together 30351.0000        1         0   \n",
       "9  5899        1950         PhD       Together  5648.0000        1         1   \n",
       "\n",
       "  Dt_Customer  Recency  MntWines  MntFruits  MntMeatProducts  MntFishProducts  \\\n",
       "0  04-09-2012       58       635         88              546              172   \n",
       "1  08-03-2014       38        11          1                6                2   \n",
       "2  21-08-2013       26       426         49              127              111   \n",
       "3  10-02-2014       26        11          4               20               10   \n",
       "4  19-01-2014       94       173         43              118               46   \n",
       "5  09-09-2013       16       520         42               98                0   \n",
       "6  13-11-2012       34       235         65              164               50   \n",
       "7  08-05-2013       32        76         10               56                3   \n",
       "8  06-06-2013       19        14          0               24                3   \n",
       "9  13-03-2014       68        28          0                6                1   \n",
       "\n",
       "   MntSweetProducts  MntGoldProds  NumDealsPurchases  NumWebPurchases  \\\n",
       "0                88            88                  3                8   \n",
       "1                 1             6                  2                1   \n",
       "2                21            42                  1                8   \n",
       "3                 3             5                  2                2   \n",
       "4                27            15                  5                5   \n",
       "5                42            14                  2                6   \n",
       "6                49            27                  4                7   \n",
       "7                 1            23                  2                4   \n",
       "8                 3             2                  1                3   \n",
       "9                 1            13                  1                1   \n",
       "\n",
       "   NumCatalogPurchases  NumStorePurchases  NumWebVisitsMonth  AcceptedCmp3  \\\n",
       "0                   10                  4                  7             0   \n",
       "1                    1                  2                  5             0   \n",
       "2                    2                 10                  4             0   \n",
       "3                    0                  4                  6             0   \n",
       "4                    3                  6                  5             0   \n",
       "5                    4                 10                  6             0   \n",
       "6                    3                  7                  6             0   \n",
       "7                    0                  4                  8             0   \n",
       "8                    0                  2                  9             0   \n",
       "9                    0                  0                 20             1   \n",
       "\n",
       "   AcceptedCmp4  AcceptedCmp5  AcceptedCmp1  AcceptedCmp2  Complain  \\\n",
       "0             0             0             0             0         0   \n",
       "1             0             0             0             0         0   \n",
       "2             0             0             0             0         0   \n",
       "3             0             0             0             0         0   \n",
       "4             0             0             0             0         0   \n",
       "5             0             0             0             0         0   \n",
       "6             0             0             0             0         0   \n",
       "7             0             0             0             0         0   \n",
       "8             0             0             0             0         0   \n",
       "9             0             0             0             0         0   \n",
       "\n",
       "   Z_CostContact  Z_Revenue  Response  \n",
       "0              3         11         1  \n",
       "1              3         11         0  \n",
       "2              3         11         0  \n",
       "3              3         11         0  \n",
       "4              3         11         0  \n",
       "5              3         11         0  \n",
       "6              3         11         0  \n",
       "7              3         11         0  \n",
       "8              3         11         1  \n",
       "9              3         11         0  "
      ]
     },
     "execution_count": 7,
     "metadata": {},
     "output_type": "execute_result"
    }
   ],
   "source": [
    "df.head(10)"
   ]
  },
  {
   "cell_type": "code",
   "execution_count": 8,
   "id": "ba3c1109",
   "metadata": {
    "execution": {
     "iopub.execute_input": "2023-10-22T15:51:02.201908Z",
     "iopub.status.busy": "2023-10-22T15:51:02.201413Z",
     "iopub.status.idle": "2023-10-22T15:51:02.212885Z",
     "shell.execute_reply": "2023-10-22T15:51:02.211965Z"
    },
    "papermill": {
     "duration": 0.045845,
     "end_time": "2023-10-22T15:51:02.215734",
     "exception": false,
     "start_time": "2023-10-22T15:51:02.169889",
     "status": "completed"
    },
    "tags": []
   },
   "outputs": [
    {
     "data": {
      "text/plain": [
       "ID                      0\n",
       "Year_Birth              0\n",
       "Education               0\n",
       "Marital_Status          0\n",
       "Income                 24\n",
       "Kidhome                 0\n",
       "Teenhome                0\n",
       "Dt_Customer             0\n",
       "Recency                 0\n",
       "MntWines                0\n",
       "MntFruits               0\n",
       "MntMeatProducts         0\n",
       "MntFishProducts         0\n",
       "MntSweetProducts        0\n",
       "MntGoldProds            0\n",
       "NumDealsPurchases       0\n",
       "NumWebPurchases         0\n",
       "NumCatalogPurchases     0\n",
       "NumStorePurchases       0\n",
       "NumWebVisitsMonth       0\n",
       "AcceptedCmp3            0\n",
       "AcceptedCmp4            0\n",
       "AcceptedCmp5            0\n",
       "AcceptedCmp1            0\n",
       "AcceptedCmp2            0\n",
       "Complain                0\n",
       "Z_CostContact           0\n",
       "Z_Revenue               0\n",
       "Response                0\n",
       "dtype: int64"
      ]
     },
     "execution_count": 8,
     "metadata": {},
     "output_type": "execute_result"
    }
   ],
   "source": [
    "df.isnull().sum()"
   ]
  },
  {
   "cell_type": "code",
   "execution_count": 9,
   "id": "d20b7d3b",
   "metadata": {
    "execution": {
     "iopub.execute_input": "2023-10-22T15:51:02.278347Z",
     "iopub.status.busy": "2023-10-22T15:51:02.277823Z",
     "iopub.status.idle": "2023-10-22T15:51:02.295621Z",
     "shell.execute_reply": "2023-10-22T15:51:02.294176Z"
    },
    "papermill": {
     "duration": 0.052834,
     "end_time": "2023-10-22T15:51:02.298609",
     "exception": false,
     "start_time": "2023-10-22T15:51:02.245775",
     "status": "completed"
    },
    "tags": []
   },
   "outputs": [
    {
     "data": {
      "text/plain": [
       "0"
      ]
     },
     "execution_count": 9,
     "metadata": {},
     "output_type": "execute_result"
    }
   ],
   "source": [
    "df.duplicated().sum()"
   ]
  },
  {
   "cell_type": "markdown",
   "id": "527d81b3",
   "metadata": {
    "papermill": {
     "duration": 0.030882,
     "end_time": "2023-10-22T15:51:02.362004",
     "exception": false,
     "start_time": "2023-10-22T15:51:02.331122",
     "status": "completed"
    },
    "tags": []
   },
   "source": [
    "<a id = \"3\"></a><br>\n",
    "### <p style=\"font-family:JetBrains Mono; font-weight:bold; letter-spacing: 2px; color:#005b96; font-size:160%; text-align:left;padding: 0px; border-bottom: 3px solid\">EDA</p>"
   ]
  },
  {
   "cell_type": "markdown",
   "id": "0ca31681",
   "metadata": {
    "papermill": {
     "duration": 0.030732,
     "end_time": "2023-10-22T15:51:02.424135",
     "exception": false,
     "start_time": "2023-10-22T15:51:02.393403",
     "status": "completed"
    },
    "tags": []
   },
   "source": [
    "* **Step - 1**"
   ]
  },
  {
   "cell_type": "code",
   "execution_count": 10,
   "id": "a96a579e",
   "metadata": {
    "execution": {
     "iopub.execute_input": "2023-10-22T15:51:02.490090Z",
     "iopub.status.busy": "2023-10-22T15:51:02.488756Z",
     "iopub.status.idle": "2023-10-22T15:51:02.497029Z",
     "shell.execute_reply": "2023-10-22T15:51:02.495747Z"
    },
    "papermill": {
     "duration": 0.044536,
     "end_time": "2023-10-22T15:51:02.500075",
     "exception": false,
     "start_time": "2023-10-22T15:51:02.455539",
     "status": "completed"
    },
    "tags": []
   },
   "outputs": [],
   "source": [
    "df['Income'] = df['Income'].fillna(df['Income'].median())"
   ]
  },
  {
   "cell_type": "code",
   "execution_count": 11,
   "id": "c3bcd0e3",
   "metadata": {
    "execution": {
     "iopub.execute_input": "2023-10-22T15:51:02.566682Z",
     "iopub.status.busy": "2023-10-22T15:51:02.565816Z",
     "iopub.status.idle": "2023-10-22T15:51:02.576505Z",
     "shell.execute_reply": "2023-10-22T15:51:02.575268Z"
    },
    "papermill": {
     "duration": 0.045842,
     "end_time": "2023-10-22T15:51:02.579096",
     "exception": false,
     "start_time": "2023-10-22T15:51:02.533254",
     "status": "completed"
    },
    "tags": []
   },
   "outputs": [
    {
     "data": {
      "text/plain": [
       "ID                     0\n",
       "Year_Birth             0\n",
       "Education              0\n",
       "Marital_Status         0\n",
       "Income                 0\n",
       "Kidhome                0\n",
       "Teenhome               0\n",
       "Dt_Customer            0\n",
       "Recency                0\n",
       "MntWines               0\n",
       "MntFruits              0\n",
       "MntMeatProducts        0\n",
       "MntFishProducts        0\n",
       "MntSweetProducts       0\n",
       "MntGoldProds           0\n",
       "NumDealsPurchases      0\n",
       "NumWebPurchases        0\n",
       "NumCatalogPurchases    0\n",
       "NumStorePurchases      0\n",
       "NumWebVisitsMonth      0\n",
       "AcceptedCmp3           0\n",
       "AcceptedCmp4           0\n",
       "AcceptedCmp5           0\n",
       "AcceptedCmp1           0\n",
       "AcceptedCmp2           0\n",
       "Complain               0\n",
       "Z_CostContact          0\n",
       "Z_Revenue              0\n",
       "Response               0\n",
       "dtype: int64"
      ]
     },
     "execution_count": 11,
     "metadata": {},
     "output_type": "execute_result"
    }
   ],
   "source": [
    "df.isnull().sum()"
   ]
  },
  {
   "cell_type": "markdown",
   "id": "bd9a0bf1",
   "metadata": {
    "papermill": {
     "duration": 0.03067,
     "end_time": "2023-10-22T15:51:02.641138",
     "exception": false,
     "start_time": "2023-10-22T15:51:02.610468",
     "status": "completed"
    },
    "tags": []
   },
   "source": [
    "* **Step - 2**"
   ]
  },
  {
   "cell_type": "code",
   "execution_count": 12,
   "id": "8f5d0045",
   "metadata": {
    "execution": {
     "iopub.execute_input": "2023-10-22T15:51:02.703741Z",
     "iopub.status.busy": "2023-10-22T15:51:02.703235Z",
     "iopub.status.idle": "2023-10-22T15:51:02.727224Z",
     "shell.execute_reply": "2023-10-22T15:51:02.726252Z"
    },
    "papermill": {
     "duration": 0.058755,
     "end_time": "2023-10-22T15:51:02.729938",
     "exception": false,
     "start_time": "2023-10-22T15:51:02.671183",
     "status": "completed"
    },
    "tags": []
   },
   "outputs": [],
   "source": [
    "df['Dt_Customer'] = pd.to_datetime(df['Dt_Customer'], format=\"%d-%m-%Y\")"
   ]
  },
  {
   "cell_type": "code",
   "execution_count": 13,
   "id": "6bc2547a",
   "metadata": {
    "execution": {
     "iopub.execute_input": "2023-10-22T15:51:02.795415Z",
     "iopub.status.busy": "2023-10-22T15:51:02.794599Z",
     "iopub.status.idle": "2023-10-22T15:51:02.801938Z",
     "shell.execute_reply": "2023-10-22T15:51:02.801053Z"
    },
    "papermill": {
     "duration": 0.042145,
     "end_time": "2023-10-22T15:51:02.804113",
     "exception": false,
     "start_time": "2023-10-22T15:51:02.761968",
     "status": "completed"
    },
    "tags": []
   },
   "outputs": [
    {
     "data": {
      "text/plain": [
       "Timestamp('2014-06-29 00:00:00')"
      ]
     },
     "execution_count": 13,
     "metadata": {},
     "output_type": "execute_result"
    }
   ],
   "source": [
    "df['Dt_Customer'].max()"
   ]
  },
  {
   "cell_type": "code",
   "execution_count": 14,
   "id": "5c45cd46",
   "metadata": {
    "execution": {
     "iopub.execute_input": "2023-10-22T15:51:02.867813Z",
     "iopub.status.busy": "2023-10-22T15:51:02.866965Z",
     "iopub.status.idle": "2023-10-22T15:51:02.874400Z",
     "shell.execute_reply": "2023-10-22T15:51:02.873483Z"
    },
    "papermill": {
     "duration": 0.042134,
     "end_time": "2023-10-22T15:51:02.876817",
     "exception": false,
     "start_time": "2023-10-22T15:51:02.834683",
     "status": "completed"
    },
    "tags": []
   },
   "outputs": [
    {
     "data": {
      "text/plain": [
       "Timestamp('2012-07-30 00:00:00')"
      ]
     },
     "execution_count": 14,
     "metadata": {},
     "output_type": "execute_result"
    }
   ],
   "source": [
    "df['Dt_Customer'].min()"
   ]
  },
  {
   "cell_type": "code",
   "execution_count": 15,
   "id": "2eb5052c",
   "metadata": {
    "execution": {
     "iopub.execute_input": "2023-10-22T15:51:02.941181Z",
     "iopub.status.busy": "2023-10-22T15:51:02.940330Z",
     "iopub.status.idle": "2023-10-22T15:51:02.965491Z",
     "shell.execute_reply": "2023-10-22T15:51:02.964263Z"
    },
    "papermill": {
     "duration": 0.059815,
     "end_time": "2023-10-22T15:51:02.968145",
     "exception": false,
     "start_time": "2023-10-22T15:51:02.908330",
     "status": "completed"
    },
    "tags": []
   },
   "outputs": [
    {
     "data": {
      "text/html": [
       "<div>\n",
       "<style scoped>\n",
       "    .dataframe tbody tr th:only-of-type {\n",
       "        vertical-align: middle;\n",
       "    }\n",
       "\n",
       "    .dataframe tbody tr th {\n",
       "        vertical-align: top;\n",
       "    }\n",
       "\n",
       "    .dataframe thead th {\n",
       "        text-align: right;\n",
       "    }\n",
       "</style>\n",
       "<table border=\"1\" class=\"dataframe\">\n",
       "  <thead>\n",
       "    <tr style=\"text-align: right;\">\n",
       "      <th></th>\n",
       "      <th>ID</th>\n",
       "      <th>Year_Birth</th>\n",
       "      <th>Education</th>\n",
       "      <th>Marital_Status</th>\n",
       "      <th>Income</th>\n",
       "      <th>Kidhome</th>\n",
       "      <th>Teenhome</th>\n",
       "      <th>Dt_Customer</th>\n",
       "      <th>Recency</th>\n",
       "      <th>MntWines</th>\n",
       "      <th>MntFruits</th>\n",
       "      <th>MntMeatProducts</th>\n",
       "      <th>MntFishProducts</th>\n",
       "      <th>MntSweetProducts</th>\n",
       "      <th>MntGoldProds</th>\n",
       "      <th>NumDealsPurchases</th>\n",
       "      <th>NumWebPurchases</th>\n",
       "      <th>NumCatalogPurchases</th>\n",
       "      <th>NumStorePurchases</th>\n",
       "      <th>NumWebVisitsMonth</th>\n",
       "      <th>AcceptedCmp3</th>\n",
       "      <th>AcceptedCmp4</th>\n",
       "      <th>AcceptedCmp5</th>\n",
       "      <th>AcceptedCmp1</th>\n",
       "      <th>AcceptedCmp2</th>\n",
       "      <th>Complain</th>\n",
       "      <th>Z_CostContact</th>\n",
       "      <th>Z_Revenue</th>\n",
       "      <th>Response</th>\n",
       "    </tr>\n",
       "  </thead>\n",
       "  <tbody>\n",
       "    <tr>\n",
       "      <th>0</th>\n",
       "      <td>5524</td>\n",
       "      <td>1957</td>\n",
       "      <td>Graduation</td>\n",
       "      <td>Single</td>\n",
       "      <td>58138.0000</td>\n",
       "      <td>0</td>\n",
       "      <td>0</td>\n",
       "      <td>2012-09-04</td>\n",
       "      <td>58</td>\n",
       "      <td>635</td>\n",
       "      <td>88</td>\n",
       "      <td>546</td>\n",
       "      <td>172</td>\n",
       "      <td>88</td>\n",
       "      <td>88</td>\n",
       "      <td>3</td>\n",
       "      <td>8</td>\n",
       "      <td>10</td>\n",
       "      <td>4</td>\n",
       "      <td>7</td>\n",
       "      <td>0</td>\n",
       "      <td>0</td>\n",
       "      <td>0</td>\n",
       "      <td>0</td>\n",
       "      <td>0</td>\n",
       "      <td>0</td>\n",
       "      <td>3</td>\n",
       "      <td>11</td>\n",
       "      <td>1</td>\n",
       "    </tr>\n",
       "    <tr>\n",
       "      <th>1</th>\n",
       "      <td>2174</td>\n",
       "      <td>1954</td>\n",
       "      <td>Graduation</td>\n",
       "      <td>Single</td>\n",
       "      <td>46344.0000</td>\n",
       "      <td>1</td>\n",
       "      <td>1</td>\n",
       "      <td>2014-03-08</td>\n",
       "      <td>38</td>\n",
       "      <td>11</td>\n",
       "      <td>1</td>\n",
       "      <td>6</td>\n",
       "      <td>2</td>\n",
       "      <td>1</td>\n",
       "      <td>6</td>\n",
       "      <td>2</td>\n",
       "      <td>1</td>\n",
       "      <td>1</td>\n",
       "      <td>2</td>\n",
       "      <td>5</td>\n",
       "      <td>0</td>\n",
       "      <td>0</td>\n",
       "      <td>0</td>\n",
       "      <td>0</td>\n",
       "      <td>0</td>\n",
       "      <td>0</td>\n",
       "      <td>3</td>\n",
       "      <td>11</td>\n",
       "      <td>0</td>\n",
       "    </tr>\n",
       "    <tr>\n",
       "      <th>2</th>\n",
       "      <td>4141</td>\n",
       "      <td>1965</td>\n",
       "      <td>Graduation</td>\n",
       "      <td>Together</td>\n",
       "      <td>71613.0000</td>\n",
       "      <td>0</td>\n",
       "      <td>0</td>\n",
       "      <td>2013-08-21</td>\n",
       "      <td>26</td>\n",
       "      <td>426</td>\n",
       "      <td>49</td>\n",
       "      <td>127</td>\n",
       "      <td>111</td>\n",
       "      <td>21</td>\n",
       "      <td>42</td>\n",
       "      <td>1</td>\n",
       "      <td>8</td>\n",
       "      <td>2</td>\n",
       "      <td>10</td>\n",
       "      <td>4</td>\n",
       "      <td>0</td>\n",
       "      <td>0</td>\n",
       "      <td>0</td>\n",
       "      <td>0</td>\n",
       "      <td>0</td>\n",
       "      <td>0</td>\n",
       "      <td>3</td>\n",
       "      <td>11</td>\n",
       "      <td>0</td>\n",
       "    </tr>\n",
       "    <tr>\n",
       "      <th>3</th>\n",
       "      <td>6182</td>\n",
       "      <td>1984</td>\n",
       "      <td>Graduation</td>\n",
       "      <td>Together</td>\n",
       "      <td>26646.0000</td>\n",
       "      <td>1</td>\n",
       "      <td>0</td>\n",
       "      <td>2014-02-10</td>\n",
       "      <td>26</td>\n",
       "      <td>11</td>\n",
       "      <td>4</td>\n",
       "      <td>20</td>\n",
       "      <td>10</td>\n",
       "      <td>3</td>\n",
       "      <td>5</td>\n",
       "      <td>2</td>\n",
       "      <td>2</td>\n",
       "      <td>0</td>\n",
       "      <td>4</td>\n",
       "      <td>6</td>\n",
       "      <td>0</td>\n",
       "      <td>0</td>\n",
       "      <td>0</td>\n",
       "      <td>0</td>\n",
       "      <td>0</td>\n",
       "      <td>0</td>\n",
       "      <td>3</td>\n",
       "      <td>11</td>\n",
       "      <td>0</td>\n",
       "    </tr>\n",
       "    <tr>\n",
       "      <th>4</th>\n",
       "      <td>5324</td>\n",
       "      <td>1981</td>\n",
       "      <td>PhD</td>\n",
       "      <td>Married</td>\n",
       "      <td>58293.0000</td>\n",
       "      <td>1</td>\n",
       "      <td>0</td>\n",
       "      <td>2014-01-19</td>\n",
       "      <td>94</td>\n",
       "      <td>173</td>\n",
       "      <td>43</td>\n",
       "      <td>118</td>\n",
       "      <td>46</td>\n",
       "      <td>27</td>\n",
       "      <td>15</td>\n",
       "      <td>5</td>\n",
       "      <td>5</td>\n",
       "      <td>3</td>\n",
       "      <td>6</td>\n",
       "      <td>5</td>\n",
       "      <td>0</td>\n",
       "      <td>0</td>\n",
       "      <td>0</td>\n",
       "      <td>0</td>\n",
       "      <td>0</td>\n",
       "      <td>0</td>\n",
       "      <td>3</td>\n",
       "      <td>11</td>\n",
       "      <td>0</td>\n",
       "    </tr>\n",
       "  </tbody>\n",
       "</table>\n",
       "</div>"
      ],
      "text/plain": [
       "     ID  Year_Birth   Education Marital_Status     Income  Kidhome  Teenhome  \\\n",
       "0  5524        1957  Graduation         Single 58138.0000        0         0   \n",
       "1  2174        1954  Graduation         Single 46344.0000        1         1   \n",
       "2  4141        1965  Graduation       Together 71613.0000        0         0   \n",
       "3  6182        1984  Graduation       Together 26646.0000        1         0   \n",
       "4  5324        1981         PhD        Married 58293.0000        1         0   \n",
       "\n",
       "  Dt_Customer  Recency  MntWines  MntFruits  MntMeatProducts  MntFishProducts  \\\n",
       "0  2012-09-04       58       635         88              546              172   \n",
       "1  2014-03-08       38        11          1                6                2   \n",
       "2  2013-08-21       26       426         49              127              111   \n",
       "3  2014-02-10       26        11          4               20               10   \n",
       "4  2014-01-19       94       173         43              118               46   \n",
       "\n",
       "   MntSweetProducts  MntGoldProds  NumDealsPurchases  NumWebPurchases  \\\n",
       "0                88            88                  3                8   \n",
       "1                 1             6                  2                1   \n",
       "2                21            42                  1                8   \n",
       "3                 3             5                  2                2   \n",
       "4                27            15                  5                5   \n",
       "\n",
       "   NumCatalogPurchases  NumStorePurchases  NumWebVisitsMonth  AcceptedCmp3  \\\n",
       "0                   10                  4                  7             0   \n",
       "1                    1                  2                  5             0   \n",
       "2                    2                 10                  4             0   \n",
       "3                    0                  4                  6             0   \n",
       "4                    3                  6                  5             0   \n",
       "\n",
       "   AcceptedCmp4  AcceptedCmp5  AcceptedCmp1  AcceptedCmp2  Complain  \\\n",
       "0             0             0             0             0         0   \n",
       "1             0             0             0             0         0   \n",
       "2             0             0             0             0         0   \n",
       "3             0             0             0             0         0   \n",
       "4             0             0             0             0         0   \n",
       "\n",
       "   Z_CostContact  Z_Revenue  Response  \n",
       "0              3         11         1  \n",
       "1              3         11         0  \n",
       "2              3         11         0  \n",
       "3              3         11         0  \n",
       "4              3         11         0  "
      ]
     },
     "execution_count": 15,
     "metadata": {},
     "output_type": "execute_result"
    }
   ],
   "source": [
    "df.head()"
   ]
  },
  {
   "cell_type": "markdown",
   "id": "06e33337",
   "metadata": {
    "papermill": {
     "duration": 0.030329,
     "end_time": "2023-10-22T15:51:03.029238",
     "exception": false,
     "start_time": "2023-10-22T15:51:02.998909",
     "status": "completed"
    },
    "tags": []
   },
   "source": [
    "* **Step - 3**"
   ]
  },
  {
   "cell_type": "code",
   "execution_count": 16,
   "id": "4df5e15c",
   "metadata": {
    "execution": {
     "iopub.execute_input": "2023-10-22T15:51:03.094246Z",
     "iopub.status.busy": "2023-10-22T15:51:03.093754Z",
     "iopub.status.idle": "2023-10-22T15:51:03.108636Z",
     "shell.execute_reply": "2023-10-22T15:51:03.107532Z"
    },
    "papermill": {
     "duration": 0.05056,
     "end_time": "2023-10-22T15:51:03.111219",
     "exception": false,
     "start_time": "2023-10-22T15:51:03.060659",
     "status": "completed"
    },
    "tags": []
   },
   "outputs": [
    {
     "data": {
      "text/plain": [
       "ID                     2240\n",
       "Year_Birth               59\n",
       "Education                 5\n",
       "Marital_Status            8\n",
       "Income                 1975\n",
       "Kidhome                   3\n",
       "Teenhome                  3\n",
       "Dt_Customer             663\n",
       "Recency                 100\n",
       "MntWines                776\n",
       "MntFruits               158\n",
       "MntMeatProducts         558\n",
       "MntFishProducts         182\n",
       "MntSweetProducts        177\n",
       "MntGoldProds            213\n",
       "NumDealsPurchases        15\n",
       "NumWebPurchases          15\n",
       "NumCatalogPurchases      14\n",
       "NumStorePurchases        14\n",
       "NumWebVisitsMonth        16\n",
       "AcceptedCmp3              2\n",
       "AcceptedCmp4              2\n",
       "AcceptedCmp5              2\n",
       "AcceptedCmp1              2\n",
       "AcceptedCmp2              2\n",
       "Complain                  2\n",
       "Z_CostContact             1\n",
       "Z_Revenue                 1\n",
       "Response                  2\n",
       "dtype: int64"
      ]
     },
     "execution_count": 16,
     "metadata": {},
     "output_type": "execute_result"
    }
   ],
   "source": [
    "df.nunique()"
   ]
  },
  {
   "cell_type": "code",
   "execution_count": 17,
   "id": "227e29d5",
   "metadata": {
    "execution": {
     "iopub.execute_input": "2023-10-22T15:51:03.175380Z",
     "iopub.status.busy": "2023-10-22T15:51:03.174906Z",
     "iopub.status.idle": "2023-10-22T15:51:03.184150Z",
     "shell.execute_reply": "2023-10-22T15:51:03.183068Z"
    },
    "papermill": {
     "duration": 0.044304,
     "end_time": "2023-10-22T15:51:03.186466",
     "exception": false,
     "start_time": "2023-10-22T15:51:03.142162",
     "status": "completed"
    },
    "tags": []
   },
   "outputs": [],
   "source": [
    "df = df.drop(columns = [\"Z_CostContact\", \"Z_Revenue\"],axis=1)"
   ]
  },
  {
   "cell_type": "markdown",
   "id": "1cd7cca5",
   "metadata": {
    "papermill": {
     "duration": 0.030331,
     "end_time": "2023-10-22T15:51:03.247504",
     "exception": false,
     "start_time": "2023-10-22T15:51:03.217173",
     "status": "completed"
    },
    "tags": []
   },
   "source": [
    "* **Step - 4**"
   ]
  },
  {
   "cell_type": "code",
   "execution_count": 18,
   "id": "9eda6e71",
   "metadata": {
    "execution": {
     "iopub.execute_input": "2023-10-22T15:51:03.311548Z",
     "iopub.status.busy": "2023-10-22T15:51:03.310356Z",
     "iopub.status.idle": "2023-10-22T15:51:03.319977Z",
     "shell.execute_reply": "2023-10-22T15:51:03.318720Z"
    },
    "papermill": {
     "duration": 0.044549,
     "end_time": "2023-10-22T15:51:03.322798",
     "exception": false,
     "start_time": "2023-10-22T15:51:03.278249",
     "status": "completed"
    },
    "tags": []
   },
   "outputs": [],
   "source": [
    "df[\"monetary\"] = df.loc[:,df.columns.str.contains(\"Mnt\")].sum(axis=1)"
   ]
  },
  {
   "cell_type": "code",
   "execution_count": 19,
   "id": "4d95e82a",
   "metadata": {
    "execution": {
     "iopub.execute_input": "2023-10-22T15:51:03.387416Z",
     "iopub.status.busy": "2023-10-22T15:51:03.386888Z",
     "iopub.status.idle": "2023-10-22T15:51:03.411751Z",
     "shell.execute_reply": "2023-10-22T15:51:03.410599Z"
    },
    "papermill": {
     "duration": 0.059822,
     "end_time": "2023-10-22T15:51:03.414235",
     "exception": false,
     "start_time": "2023-10-22T15:51:03.354413",
     "status": "completed"
    },
    "tags": []
   },
   "outputs": [
    {
     "data": {
      "text/html": [
       "<div>\n",
       "<style scoped>\n",
       "    .dataframe tbody tr th:only-of-type {\n",
       "        vertical-align: middle;\n",
       "    }\n",
       "\n",
       "    .dataframe tbody tr th {\n",
       "        vertical-align: top;\n",
       "    }\n",
       "\n",
       "    .dataframe thead th {\n",
       "        text-align: right;\n",
       "    }\n",
       "</style>\n",
       "<table border=\"1\" class=\"dataframe\">\n",
       "  <thead>\n",
       "    <tr style=\"text-align: right;\">\n",
       "      <th></th>\n",
       "      <th>ID</th>\n",
       "      <th>Year_Birth</th>\n",
       "      <th>Education</th>\n",
       "      <th>Marital_Status</th>\n",
       "      <th>Income</th>\n",
       "      <th>Kidhome</th>\n",
       "      <th>Teenhome</th>\n",
       "      <th>Dt_Customer</th>\n",
       "      <th>Recency</th>\n",
       "      <th>MntWines</th>\n",
       "      <th>MntFruits</th>\n",
       "      <th>MntMeatProducts</th>\n",
       "      <th>MntFishProducts</th>\n",
       "      <th>MntSweetProducts</th>\n",
       "      <th>MntGoldProds</th>\n",
       "      <th>NumDealsPurchases</th>\n",
       "      <th>NumWebPurchases</th>\n",
       "      <th>NumCatalogPurchases</th>\n",
       "      <th>NumStorePurchases</th>\n",
       "      <th>NumWebVisitsMonth</th>\n",
       "      <th>AcceptedCmp3</th>\n",
       "      <th>AcceptedCmp4</th>\n",
       "      <th>AcceptedCmp5</th>\n",
       "      <th>AcceptedCmp1</th>\n",
       "      <th>AcceptedCmp2</th>\n",
       "      <th>Complain</th>\n",
       "      <th>Response</th>\n",
       "      <th>monetary</th>\n",
       "    </tr>\n",
       "  </thead>\n",
       "  <tbody>\n",
       "    <tr>\n",
       "      <th>0</th>\n",
       "      <td>5524</td>\n",
       "      <td>1957</td>\n",
       "      <td>Graduation</td>\n",
       "      <td>Single</td>\n",
       "      <td>58138.0000</td>\n",
       "      <td>0</td>\n",
       "      <td>0</td>\n",
       "      <td>2012-09-04</td>\n",
       "      <td>58</td>\n",
       "      <td>635</td>\n",
       "      <td>88</td>\n",
       "      <td>546</td>\n",
       "      <td>172</td>\n",
       "      <td>88</td>\n",
       "      <td>88</td>\n",
       "      <td>3</td>\n",
       "      <td>8</td>\n",
       "      <td>10</td>\n",
       "      <td>4</td>\n",
       "      <td>7</td>\n",
       "      <td>0</td>\n",
       "      <td>0</td>\n",
       "      <td>0</td>\n",
       "      <td>0</td>\n",
       "      <td>0</td>\n",
       "      <td>0</td>\n",
       "      <td>1</td>\n",
       "      <td>1617</td>\n",
       "    </tr>\n",
       "    <tr>\n",
       "      <th>1</th>\n",
       "      <td>2174</td>\n",
       "      <td>1954</td>\n",
       "      <td>Graduation</td>\n",
       "      <td>Single</td>\n",
       "      <td>46344.0000</td>\n",
       "      <td>1</td>\n",
       "      <td>1</td>\n",
       "      <td>2014-03-08</td>\n",
       "      <td>38</td>\n",
       "      <td>11</td>\n",
       "      <td>1</td>\n",
       "      <td>6</td>\n",
       "      <td>2</td>\n",
       "      <td>1</td>\n",
       "      <td>6</td>\n",
       "      <td>2</td>\n",
       "      <td>1</td>\n",
       "      <td>1</td>\n",
       "      <td>2</td>\n",
       "      <td>5</td>\n",
       "      <td>0</td>\n",
       "      <td>0</td>\n",
       "      <td>0</td>\n",
       "      <td>0</td>\n",
       "      <td>0</td>\n",
       "      <td>0</td>\n",
       "      <td>0</td>\n",
       "      <td>27</td>\n",
       "    </tr>\n",
       "    <tr>\n",
       "      <th>2</th>\n",
       "      <td>4141</td>\n",
       "      <td>1965</td>\n",
       "      <td>Graduation</td>\n",
       "      <td>Together</td>\n",
       "      <td>71613.0000</td>\n",
       "      <td>0</td>\n",
       "      <td>0</td>\n",
       "      <td>2013-08-21</td>\n",
       "      <td>26</td>\n",
       "      <td>426</td>\n",
       "      <td>49</td>\n",
       "      <td>127</td>\n",
       "      <td>111</td>\n",
       "      <td>21</td>\n",
       "      <td>42</td>\n",
       "      <td>1</td>\n",
       "      <td>8</td>\n",
       "      <td>2</td>\n",
       "      <td>10</td>\n",
       "      <td>4</td>\n",
       "      <td>0</td>\n",
       "      <td>0</td>\n",
       "      <td>0</td>\n",
       "      <td>0</td>\n",
       "      <td>0</td>\n",
       "      <td>0</td>\n",
       "      <td>0</td>\n",
       "      <td>776</td>\n",
       "    </tr>\n",
       "    <tr>\n",
       "      <th>3</th>\n",
       "      <td>6182</td>\n",
       "      <td>1984</td>\n",
       "      <td>Graduation</td>\n",
       "      <td>Together</td>\n",
       "      <td>26646.0000</td>\n",
       "      <td>1</td>\n",
       "      <td>0</td>\n",
       "      <td>2014-02-10</td>\n",
       "      <td>26</td>\n",
       "      <td>11</td>\n",
       "      <td>4</td>\n",
       "      <td>20</td>\n",
       "      <td>10</td>\n",
       "      <td>3</td>\n",
       "      <td>5</td>\n",
       "      <td>2</td>\n",
       "      <td>2</td>\n",
       "      <td>0</td>\n",
       "      <td>4</td>\n",
       "      <td>6</td>\n",
       "      <td>0</td>\n",
       "      <td>0</td>\n",
       "      <td>0</td>\n",
       "      <td>0</td>\n",
       "      <td>0</td>\n",
       "      <td>0</td>\n",
       "      <td>0</td>\n",
       "      <td>53</td>\n",
       "    </tr>\n",
       "    <tr>\n",
       "      <th>4</th>\n",
       "      <td>5324</td>\n",
       "      <td>1981</td>\n",
       "      <td>PhD</td>\n",
       "      <td>Married</td>\n",
       "      <td>58293.0000</td>\n",
       "      <td>1</td>\n",
       "      <td>0</td>\n",
       "      <td>2014-01-19</td>\n",
       "      <td>94</td>\n",
       "      <td>173</td>\n",
       "      <td>43</td>\n",
       "      <td>118</td>\n",
       "      <td>46</td>\n",
       "      <td>27</td>\n",
       "      <td>15</td>\n",
       "      <td>5</td>\n",
       "      <td>5</td>\n",
       "      <td>3</td>\n",
       "      <td>6</td>\n",
       "      <td>5</td>\n",
       "      <td>0</td>\n",
       "      <td>0</td>\n",
       "      <td>0</td>\n",
       "      <td>0</td>\n",
       "      <td>0</td>\n",
       "      <td>0</td>\n",
       "      <td>0</td>\n",
       "      <td>422</td>\n",
       "    </tr>\n",
       "  </tbody>\n",
       "</table>\n",
       "</div>"
      ],
      "text/plain": [
       "     ID  Year_Birth   Education Marital_Status     Income  Kidhome  Teenhome  \\\n",
       "0  5524        1957  Graduation         Single 58138.0000        0         0   \n",
       "1  2174        1954  Graduation         Single 46344.0000        1         1   \n",
       "2  4141        1965  Graduation       Together 71613.0000        0         0   \n",
       "3  6182        1984  Graduation       Together 26646.0000        1         0   \n",
       "4  5324        1981         PhD        Married 58293.0000        1         0   \n",
       "\n",
       "  Dt_Customer  Recency  MntWines  MntFruits  MntMeatProducts  MntFishProducts  \\\n",
       "0  2012-09-04       58       635         88              546              172   \n",
       "1  2014-03-08       38        11          1                6                2   \n",
       "2  2013-08-21       26       426         49              127              111   \n",
       "3  2014-02-10       26        11          4               20               10   \n",
       "4  2014-01-19       94       173         43              118               46   \n",
       "\n",
       "   MntSweetProducts  MntGoldProds  NumDealsPurchases  NumWebPurchases  \\\n",
       "0                88            88                  3                8   \n",
       "1                 1             6                  2                1   \n",
       "2                21            42                  1                8   \n",
       "3                 3             5                  2                2   \n",
       "4                27            15                  5                5   \n",
       "\n",
       "   NumCatalogPurchases  NumStorePurchases  NumWebVisitsMonth  AcceptedCmp3  \\\n",
       "0                   10                  4                  7             0   \n",
       "1                    1                  2                  5             0   \n",
       "2                    2                 10                  4             0   \n",
       "3                    0                  4                  6             0   \n",
       "4                    3                  6                  5             0   \n",
       "\n",
       "   AcceptedCmp4  AcceptedCmp5  AcceptedCmp1  AcceptedCmp2  Complain  Response  \\\n",
       "0             0             0             0             0         0         1   \n",
       "1             0             0             0             0         0         0   \n",
       "2             0             0             0             0         0         0   \n",
       "3             0             0             0             0         0         0   \n",
       "4             0             0             0             0         0         0   \n",
       "\n",
       "   monetary  \n",
       "0      1617  \n",
       "1        27  \n",
       "2       776  \n",
       "3        53  \n",
       "4       422  "
      ]
     },
     "execution_count": 19,
     "metadata": {},
     "output_type": "execute_result"
    }
   ],
   "source": [
    "df.head()"
   ]
  },
  {
   "cell_type": "markdown",
   "id": "06127143",
   "metadata": {
    "papermill": {
     "duration": 0.031795,
     "end_time": "2023-10-22T15:51:03.477518",
     "exception": false,
     "start_time": "2023-10-22T15:51:03.445723",
     "status": "completed"
    },
    "tags": []
   },
   "source": [
    "* **Step - 5**"
   ]
  },
  {
   "cell_type": "code",
   "execution_count": 20,
   "id": "0437ce96",
   "metadata": {
    "execution": {
     "iopub.execute_input": "2023-10-22T15:51:03.559523Z",
     "iopub.status.busy": "2023-10-22T15:51:03.558603Z",
     "iopub.status.idle": "2023-10-22T15:51:03.567856Z",
     "shell.execute_reply": "2023-10-22T15:51:03.566546Z"
    },
    "papermill": {
     "duration": 0.054134,
     "end_time": "2023-10-22T15:51:03.571390",
     "exception": false,
     "start_time": "2023-10-22T15:51:03.517256",
     "status": "completed"
    },
    "tags": []
   },
   "outputs": [],
   "source": [
    "df[\"frequency\"] = df.loc[:,df.columns.str.contains(\"Purchases\")].sum(axis=1)"
   ]
  },
  {
   "cell_type": "code",
   "execution_count": 21,
   "id": "be1676a0",
   "metadata": {
    "execution": {
     "iopub.execute_input": "2023-10-22T15:51:03.641654Z",
     "iopub.status.busy": "2023-10-22T15:51:03.639824Z",
     "iopub.status.idle": "2023-10-22T15:51:03.677770Z",
     "shell.execute_reply": "2023-10-22T15:51:03.676340Z"
    },
    "papermill": {
     "duration": 0.081996,
     "end_time": "2023-10-22T15:51:03.686538",
     "exception": false,
     "start_time": "2023-10-22T15:51:03.604542",
     "status": "completed"
    },
    "tags": []
   },
   "outputs": [
    {
     "data": {
      "text/html": [
       "<div>\n",
       "<style scoped>\n",
       "    .dataframe tbody tr th:only-of-type {\n",
       "        vertical-align: middle;\n",
       "    }\n",
       "\n",
       "    .dataframe tbody tr th {\n",
       "        vertical-align: top;\n",
       "    }\n",
       "\n",
       "    .dataframe thead th {\n",
       "        text-align: right;\n",
       "    }\n",
       "</style>\n",
       "<table border=\"1\" class=\"dataframe\">\n",
       "  <thead>\n",
       "    <tr style=\"text-align: right;\">\n",
       "      <th></th>\n",
       "      <th>ID</th>\n",
       "      <th>Year_Birth</th>\n",
       "      <th>Education</th>\n",
       "      <th>Marital_Status</th>\n",
       "      <th>Income</th>\n",
       "      <th>Kidhome</th>\n",
       "      <th>Teenhome</th>\n",
       "      <th>Dt_Customer</th>\n",
       "      <th>Recency</th>\n",
       "      <th>MntWines</th>\n",
       "      <th>MntFruits</th>\n",
       "      <th>MntMeatProducts</th>\n",
       "      <th>MntFishProducts</th>\n",
       "      <th>MntSweetProducts</th>\n",
       "      <th>MntGoldProds</th>\n",
       "      <th>NumDealsPurchases</th>\n",
       "      <th>NumWebPurchases</th>\n",
       "      <th>NumCatalogPurchases</th>\n",
       "      <th>NumStorePurchases</th>\n",
       "      <th>NumWebVisitsMonth</th>\n",
       "      <th>AcceptedCmp3</th>\n",
       "      <th>AcceptedCmp4</th>\n",
       "      <th>AcceptedCmp5</th>\n",
       "      <th>AcceptedCmp1</th>\n",
       "      <th>AcceptedCmp2</th>\n",
       "      <th>Complain</th>\n",
       "      <th>Response</th>\n",
       "      <th>monetary</th>\n",
       "      <th>frequency</th>\n",
       "    </tr>\n",
       "  </thead>\n",
       "  <tbody>\n",
       "    <tr>\n",
       "      <th>0</th>\n",
       "      <td>5524</td>\n",
       "      <td>1957</td>\n",
       "      <td>Graduation</td>\n",
       "      <td>Single</td>\n",
       "      <td>58138.0000</td>\n",
       "      <td>0</td>\n",
       "      <td>0</td>\n",
       "      <td>2012-09-04</td>\n",
       "      <td>58</td>\n",
       "      <td>635</td>\n",
       "      <td>88</td>\n",
       "      <td>546</td>\n",
       "      <td>172</td>\n",
       "      <td>88</td>\n",
       "      <td>88</td>\n",
       "      <td>3</td>\n",
       "      <td>8</td>\n",
       "      <td>10</td>\n",
       "      <td>4</td>\n",
       "      <td>7</td>\n",
       "      <td>0</td>\n",
       "      <td>0</td>\n",
       "      <td>0</td>\n",
       "      <td>0</td>\n",
       "      <td>0</td>\n",
       "      <td>0</td>\n",
       "      <td>1</td>\n",
       "      <td>1617</td>\n",
       "      <td>25</td>\n",
       "    </tr>\n",
       "    <tr>\n",
       "      <th>1</th>\n",
       "      <td>2174</td>\n",
       "      <td>1954</td>\n",
       "      <td>Graduation</td>\n",
       "      <td>Single</td>\n",
       "      <td>46344.0000</td>\n",
       "      <td>1</td>\n",
       "      <td>1</td>\n",
       "      <td>2014-03-08</td>\n",
       "      <td>38</td>\n",
       "      <td>11</td>\n",
       "      <td>1</td>\n",
       "      <td>6</td>\n",
       "      <td>2</td>\n",
       "      <td>1</td>\n",
       "      <td>6</td>\n",
       "      <td>2</td>\n",
       "      <td>1</td>\n",
       "      <td>1</td>\n",
       "      <td>2</td>\n",
       "      <td>5</td>\n",
       "      <td>0</td>\n",
       "      <td>0</td>\n",
       "      <td>0</td>\n",
       "      <td>0</td>\n",
       "      <td>0</td>\n",
       "      <td>0</td>\n",
       "      <td>0</td>\n",
       "      <td>27</td>\n",
       "      <td>6</td>\n",
       "    </tr>\n",
       "    <tr>\n",
       "      <th>2</th>\n",
       "      <td>4141</td>\n",
       "      <td>1965</td>\n",
       "      <td>Graduation</td>\n",
       "      <td>Together</td>\n",
       "      <td>71613.0000</td>\n",
       "      <td>0</td>\n",
       "      <td>0</td>\n",
       "      <td>2013-08-21</td>\n",
       "      <td>26</td>\n",
       "      <td>426</td>\n",
       "      <td>49</td>\n",
       "      <td>127</td>\n",
       "      <td>111</td>\n",
       "      <td>21</td>\n",
       "      <td>42</td>\n",
       "      <td>1</td>\n",
       "      <td>8</td>\n",
       "      <td>2</td>\n",
       "      <td>10</td>\n",
       "      <td>4</td>\n",
       "      <td>0</td>\n",
       "      <td>0</td>\n",
       "      <td>0</td>\n",
       "      <td>0</td>\n",
       "      <td>0</td>\n",
       "      <td>0</td>\n",
       "      <td>0</td>\n",
       "      <td>776</td>\n",
       "      <td>21</td>\n",
       "    </tr>\n",
       "    <tr>\n",
       "      <th>3</th>\n",
       "      <td>6182</td>\n",
       "      <td>1984</td>\n",
       "      <td>Graduation</td>\n",
       "      <td>Together</td>\n",
       "      <td>26646.0000</td>\n",
       "      <td>1</td>\n",
       "      <td>0</td>\n",
       "      <td>2014-02-10</td>\n",
       "      <td>26</td>\n",
       "      <td>11</td>\n",
       "      <td>4</td>\n",
       "      <td>20</td>\n",
       "      <td>10</td>\n",
       "      <td>3</td>\n",
       "      <td>5</td>\n",
       "      <td>2</td>\n",
       "      <td>2</td>\n",
       "      <td>0</td>\n",
       "      <td>4</td>\n",
       "      <td>6</td>\n",
       "      <td>0</td>\n",
       "      <td>0</td>\n",
       "      <td>0</td>\n",
       "      <td>0</td>\n",
       "      <td>0</td>\n",
       "      <td>0</td>\n",
       "      <td>0</td>\n",
       "      <td>53</td>\n",
       "      <td>8</td>\n",
       "    </tr>\n",
       "    <tr>\n",
       "      <th>4</th>\n",
       "      <td>5324</td>\n",
       "      <td>1981</td>\n",
       "      <td>PhD</td>\n",
       "      <td>Married</td>\n",
       "      <td>58293.0000</td>\n",
       "      <td>1</td>\n",
       "      <td>0</td>\n",
       "      <td>2014-01-19</td>\n",
       "      <td>94</td>\n",
       "      <td>173</td>\n",
       "      <td>43</td>\n",
       "      <td>118</td>\n",
       "      <td>46</td>\n",
       "      <td>27</td>\n",
       "      <td>15</td>\n",
       "      <td>5</td>\n",
       "      <td>5</td>\n",
       "      <td>3</td>\n",
       "      <td>6</td>\n",
       "      <td>5</td>\n",
       "      <td>0</td>\n",
       "      <td>0</td>\n",
       "      <td>0</td>\n",
       "      <td>0</td>\n",
       "      <td>0</td>\n",
       "      <td>0</td>\n",
       "      <td>0</td>\n",
       "      <td>422</td>\n",
       "      <td>19</td>\n",
       "    </tr>\n",
       "  </tbody>\n",
       "</table>\n",
       "</div>"
      ],
      "text/plain": [
       "     ID  Year_Birth   Education Marital_Status     Income  Kidhome  Teenhome  \\\n",
       "0  5524        1957  Graduation         Single 58138.0000        0         0   \n",
       "1  2174        1954  Graduation         Single 46344.0000        1         1   \n",
       "2  4141        1965  Graduation       Together 71613.0000        0         0   \n",
       "3  6182        1984  Graduation       Together 26646.0000        1         0   \n",
       "4  5324        1981         PhD        Married 58293.0000        1         0   \n",
       "\n",
       "  Dt_Customer  Recency  MntWines  MntFruits  MntMeatProducts  MntFishProducts  \\\n",
       "0  2012-09-04       58       635         88              546              172   \n",
       "1  2014-03-08       38        11          1                6                2   \n",
       "2  2013-08-21       26       426         49              127              111   \n",
       "3  2014-02-10       26        11          4               20               10   \n",
       "4  2014-01-19       94       173         43              118               46   \n",
       "\n",
       "   MntSweetProducts  MntGoldProds  NumDealsPurchases  NumWebPurchases  \\\n",
       "0                88            88                  3                8   \n",
       "1                 1             6                  2                1   \n",
       "2                21            42                  1                8   \n",
       "3                 3             5                  2                2   \n",
       "4                27            15                  5                5   \n",
       "\n",
       "   NumCatalogPurchases  NumStorePurchases  NumWebVisitsMonth  AcceptedCmp3  \\\n",
       "0                   10                  4                  7             0   \n",
       "1                    1                  2                  5             0   \n",
       "2                    2                 10                  4             0   \n",
       "3                    0                  4                  6             0   \n",
       "4                    3                  6                  5             0   \n",
       "\n",
       "   AcceptedCmp4  AcceptedCmp5  AcceptedCmp1  AcceptedCmp2  Complain  Response  \\\n",
       "0             0             0             0             0         0         1   \n",
       "1             0             0             0             0         0         0   \n",
       "2             0             0             0             0         0         0   \n",
       "3             0             0             0             0         0         0   \n",
       "4             0             0             0             0         0         0   \n",
       "\n",
       "   monetary  frequency  \n",
       "0      1617         25  \n",
       "1        27          6  \n",
       "2       776         21  \n",
       "3        53          8  \n",
       "4       422         19  "
      ]
     },
     "execution_count": 21,
     "metadata": {},
     "output_type": "execute_result"
    }
   ],
   "source": [
    "df.head()"
   ]
  },
  {
   "cell_type": "markdown",
   "id": "7130229d",
   "metadata": {
    "papermill": {
     "duration": 0.042176,
     "end_time": "2023-10-22T15:51:03.773417",
     "exception": false,
     "start_time": "2023-10-22T15:51:03.731241",
     "status": "completed"
    },
    "tags": []
   },
   "source": [
    "<div style=\"border-radius:10px; border:#D0C2F0 solid; padding: 15px; background-color: #FFF0F4; font-size:100%; text-align:left\">\n",
    "\n",
    "<h3 align=\"left\"><font color='#5E5273'>📄 Steps what we did:</font></h3>\n",
    "\n",
    "* **Step 1:** We replaced missing values in the \"Income\" column with median values.\n",
    "* **Step 2:** We changed the data type of the 'Dt_Customer' column to 'datetime'.\n",
    "* **Step 3:** We removed the \"Z_CostContact\" and \"Z_Revenue\" columns as they contained the same value in all rows, rendering the data meaningless.\n",
    "* **Step 4:** We aggregated the data from various columns related to the amount spent and consolidated it into a new column called \"monetary.\"\n",
    "* **Step 5:** We combined the data from multiple columns related to transaction amounts and created a new column named \"frequency.\""
   ]
  },
  {
   "cell_type": "markdown",
   "id": "002e0497",
   "metadata": {
    "papermill": {
     "duration": 0.031837,
     "end_time": "2023-10-22T15:51:03.841627",
     "exception": false,
     "start_time": "2023-10-22T15:51:03.809790",
     "status": "completed"
    },
    "tags": []
   },
   "source": [
    "<a id = \"4\"></a><br>\n",
    "### <p style=\"font-family:JetBrains Mono; font-weight:bold; letter-spacing: 2px; color:#005b96; font-size:160%; text-align:left;padding: 0px; border-bottom: 3px solid\">RFM Analysis</p>"
   ]
  },
  {
   "cell_type": "markdown",
   "id": "8f81a03b",
   "metadata": {
    "papermill": {
     "duration": 0.034056,
     "end_time": "2023-10-22T15:51:03.907628",
     "exception": false,
     "start_time": "2023-10-22T15:51:03.873572",
     "status": "completed"
    },
    "tags": []
   },
   "source": [
    "<div style=\"border-radius:10px; border:#6B8BA0 solid; padding: 15px; background-color: #F2EADF; font-size:100%; text-align:left\">\n",
    "\n",
    "<h3 align=\"left\"><font color='#6B8BA0'>👀 RFM Metrics: </font></h3>\n",
    "    \n",
    "1. **Recency**: refers to the newness of the customer. (Date of analysis - Date of last purchase by the customer)\n",
    "1. **Frequency**: is the total purchase value made by the customer.\n",
    "1. **Monetary**: It is the total money left by the customer as a result of the total purchases he made."
   ]
  },
  {
   "cell_type": "code",
   "execution_count": 22,
   "id": "326dfb33",
   "metadata": {
    "execution": {
     "iopub.execute_input": "2023-10-22T15:51:03.982815Z",
     "iopub.status.busy": "2023-10-22T15:51:03.981984Z",
     "iopub.status.idle": "2023-10-22T15:51:03.988958Z",
     "shell.execute_reply": "2023-10-22T15:51:03.987897Z"
    },
    "papermill": {
     "duration": 0.046635,
     "end_time": "2023-10-22T15:51:03.991136",
     "exception": false,
     "start_time": "2023-10-22T15:51:03.944501",
     "status": "completed"
    },
    "tags": []
   },
   "outputs": [],
   "source": [
    "rfm = df[[\"ID\",\"Recency\",\"frequency\",\"monetary\"]]"
   ]
  },
  {
   "cell_type": "code",
   "execution_count": 23,
   "id": "e0838db5",
   "metadata": {
    "execution": {
     "iopub.execute_input": "2023-10-22T15:51:04.058891Z",
     "iopub.status.busy": "2023-10-22T15:51:04.058003Z",
     "iopub.status.idle": "2023-10-22T15:51:04.069304Z",
     "shell.execute_reply": "2023-10-22T15:51:04.068466Z"
    },
    "papermill": {
     "duration": 0.047844,
     "end_time": "2023-10-22T15:51:04.071612",
     "exception": false,
     "start_time": "2023-10-22T15:51:04.023768",
     "status": "completed"
    },
    "tags": []
   },
   "outputs": [
    {
     "data": {
      "text/html": [
       "<div>\n",
       "<style scoped>\n",
       "    .dataframe tbody tr th:only-of-type {\n",
       "        vertical-align: middle;\n",
       "    }\n",
       "\n",
       "    .dataframe tbody tr th {\n",
       "        vertical-align: top;\n",
       "    }\n",
       "\n",
       "    .dataframe thead th {\n",
       "        text-align: right;\n",
       "    }\n",
       "</style>\n",
       "<table border=\"1\" class=\"dataframe\">\n",
       "  <thead>\n",
       "    <tr style=\"text-align: right;\">\n",
       "      <th></th>\n",
       "      <th>ID</th>\n",
       "      <th>Recency</th>\n",
       "      <th>frequency</th>\n",
       "      <th>monetary</th>\n",
       "    </tr>\n",
       "  </thead>\n",
       "  <tbody>\n",
       "    <tr>\n",
       "      <th>0</th>\n",
       "      <td>5524</td>\n",
       "      <td>58</td>\n",
       "      <td>25</td>\n",
       "      <td>1617</td>\n",
       "    </tr>\n",
       "    <tr>\n",
       "      <th>1</th>\n",
       "      <td>2174</td>\n",
       "      <td>38</td>\n",
       "      <td>6</td>\n",
       "      <td>27</td>\n",
       "    </tr>\n",
       "    <tr>\n",
       "      <th>2</th>\n",
       "      <td>4141</td>\n",
       "      <td>26</td>\n",
       "      <td>21</td>\n",
       "      <td>776</td>\n",
       "    </tr>\n",
       "    <tr>\n",
       "      <th>3</th>\n",
       "      <td>6182</td>\n",
       "      <td>26</td>\n",
       "      <td>8</td>\n",
       "      <td>53</td>\n",
       "    </tr>\n",
       "    <tr>\n",
       "      <th>4</th>\n",
       "      <td>5324</td>\n",
       "      <td>94</td>\n",
       "      <td>19</td>\n",
       "      <td>422</td>\n",
       "    </tr>\n",
       "  </tbody>\n",
       "</table>\n",
       "</div>"
      ],
      "text/plain": [
       "     ID  Recency  frequency  monetary\n",
       "0  5524       58         25      1617\n",
       "1  2174       38          6        27\n",
       "2  4141       26         21       776\n",
       "3  6182       26          8        53\n",
       "4  5324       94         19       422"
      ]
     },
     "execution_count": 23,
     "metadata": {},
     "output_type": "execute_result"
    }
   ],
   "source": [
    "rfm.head()"
   ]
  },
  {
   "cell_type": "code",
   "execution_count": 24,
   "id": "752b3530",
   "metadata": {
    "execution": {
     "iopub.execute_input": "2023-10-22T15:51:04.139798Z",
     "iopub.status.busy": "2023-10-22T15:51:04.138506Z",
     "iopub.status.idle": "2023-10-22T15:51:04.162635Z",
     "shell.execute_reply": "2023-10-22T15:51:04.161405Z"
    },
    "papermill": {
     "duration": 0.060739,
     "end_time": "2023-10-22T15:51:04.165493",
     "exception": false,
     "start_time": "2023-10-22T15:51:04.104754",
     "status": "completed"
    },
    "tags": []
   },
   "outputs": [
    {
     "data": {
      "text/html": [
       "<div>\n",
       "<style scoped>\n",
       "    .dataframe tbody tr th:only-of-type {\n",
       "        vertical-align: middle;\n",
       "    }\n",
       "\n",
       "    .dataframe tbody tr th {\n",
       "        vertical-align: top;\n",
       "    }\n",
       "\n",
       "    .dataframe thead th {\n",
       "        text-align: right;\n",
       "    }\n",
       "</style>\n",
       "<table border=\"1\" class=\"dataframe\">\n",
       "  <thead>\n",
       "    <tr style=\"text-align: right;\">\n",
       "      <th></th>\n",
       "      <th>count</th>\n",
       "      <th>mean</th>\n",
       "      <th>std</th>\n",
       "      <th>min</th>\n",
       "      <th>25%</th>\n",
       "      <th>50%</th>\n",
       "      <th>75%</th>\n",
       "      <th>max</th>\n",
       "    </tr>\n",
       "  </thead>\n",
       "  <tbody>\n",
       "    <tr>\n",
       "      <th>ID</th>\n",
       "      <td>2240.0000</td>\n",
       "      <td>5592.1598</td>\n",
       "      <td>3246.6622</td>\n",
       "      <td>0.0000</td>\n",
       "      <td>2828.2500</td>\n",
       "      <td>5458.5000</td>\n",
       "      <td>8427.7500</td>\n",
       "      <td>11191.0000</td>\n",
       "    </tr>\n",
       "    <tr>\n",
       "      <th>Recency</th>\n",
       "      <td>2240.0000</td>\n",
       "      <td>49.1094</td>\n",
       "      <td>28.9625</td>\n",
       "      <td>0.0000</td>\n",
       "      <td>24.0000</td>\n",
       "      <td>49.0000</td>\n",
       "      <td>74.0000</td>\n",
       "      <td>99.0000</td>\n",
       "    </tr>\n",
       "    <tr>\n",
       "      <th>frequency</th>\n",
       "      <td>2240.0000</td>\n",
       "      <td>14.8621</td>\n",
       "      <td>7.6772</td>\n",
       "      <td>0.0000</td>\n",
       "      <td>8.0000</td>\n",
       "      <td>15.0000</td>\n",
       "      <td>21.0000</td>\n",
       "      <td>44.0000</td>\n",
       "    </tr>\n",
       "    <tr>\n",
       "      <th>monetary</th>\n",
       "      <td>2240.0000</td>\n",
       "      <td>605.7982</td>\n",
       "      <td>602.2493</td>\n",
       "      <td>5.0000</td>\n",
       "      <td>68.7500</td>\n",
       "      <td>396.0000</td>\n",
       "      <td>1045.5000</td>\n",
       "      <td>2525.0000</td>\n",
       "    </tr>\n",
       "  </tbody>\n",
       "</table>\n",
       "</div>"
      ],
      "text/plain": [
       "              count      mean       std    min       25%       50%       75%  \\\n",
       "ID        2240.0000 5592.1598 3246.6622 0.0000 2828.2500 5458.5000 8427.7500   \n",
       "Recency   2240.0000   49.1094   28.9625 0.0000   24.0000   49.0000   74.0000   \n",
       "frequency 2240.0000   14.8621    7.6772 0.0000    8.0000   15.0000   21.0000   \n",
       "monetary  2240.0000  605.7982  602.2493 5.0000   68.7500  396.0000 1045.5000   \n",
       "\n",
       "                 max  \n",
       "ID        11191.0000  \n",
       "Recency      99.0000  \n",
       "frequency    44.0000  \n",
       "monetary   2525.0000  "
      ]
     },
     "execution_count": 24,
     "metadata": {},
     "output_type": "execute_result"
    }
   ],
   "source": [
    "rfm.describe().T"
   ]
  },
  {
   "cell_type": "markdown",
   "id": "9058770f",
   "metadata": {
    "papermill": {
     "duration": 0.032799,
     "end_time": "2023-10-22T15:51:04.231774",
     "exception": false,
     "start_time": "2023-10-22T15:51:04.198975",
     "status": "completed"
    },
    "tags": []
   },
   "source": [
    "<div style=\"border-radius:10px; border:#D0C2F0 solid; padding: 15px; background-color: #FFF0F4; font-size:100%; text-align:left\">\n",
    "\n",
    "<h3 align=\"left\"><font color='#5E5273'>📄 Notes:</font></h3>\n",
    "    \n",
    "* As evident, both 'recency' and 'frequency' have minimum values of zero. Nevertheless, these metrics should not have zero values, necessitating the need for adjustments."
   ]
  },
  {
   "cell_type": "code",
   "execution_count": 25,
   "id": "7c637381",
   "metadata": {
    "execution": {
     "iopub.execute_input": "2023-10-22T15:51:04.300331Z",
     "iopub.status.busy": "2023-10-22T15:51:04.299783Z",
     "iopub.status.idle": "2023-10-22T15:51:04.309163Z",
     "shell.execute_reply": "2023-10-22T15:51:04.307780Z"
    },
    "papermill": {
     "duration": 0.046948,
     "end_time": "2023-10-22T15:51:04.311529",
     "exception": false,
     "start_time": "2023-10-22T15:51:04.264581",
     "status": "completed"
    },
    "tags": []
   },
   "outputs": [],
   "source": [
    "rfm = rfm[rfm[\"frequency\"] > 0]\n",
    "rfm = rfm[rfm[\"Recency\"] > 0]"
   ]
  },
  {
   "cell_type": "code",
   "execution_count": 26,
   "id": "e495abc7",
   "metadata": {
    "execution": {
     "iopub.execute_input": "2023-10-22T15:51:04.379913Z",
     "iopub.status.busy": "2023-10-22T15:51:04.379435Z",
     "iopub.status.idle": "2023-10-22T15:51:04.405595Z",
     "shell.execute_reply": "2023-10-22T15:51:04.404508Z"
    },
    "papermill": {
     "duration": 0.063502,
     "end_time": "2023-10-22T15:51:04.408404",
     "exception": false,
     "start_time": "2023-10-22T15:51:04.344902",
     "status": "completed"
    },
    "tags": []
   },
   "outputs": [
    {
     "data": {
      "text/html": [
       "<div>\n",
       "<style scoped>\n",
       "    .dataframe tbody tr th:only-of-type {\n",
       "        vertical-align: middle;\n",
       "    }\n",
       "\n",
       "    .dataframe tbody tr th {\n",
       "        vertical-align: top;\n",
       "    }\n",
       "\n",
       "    .dataframe thead th {\n",
       "        text-align: right;\n",
       "    }\n",
       "</style>\n",
       "<table border=\"1\" class=\"dataframe\">\n",
       "  <thead>\n",
       "    <tr style=\"text-align: right;\">\n",
       "      <th></th>\n",
       "      <th>count</th>\n",
       "      <th>mean</th>\n",
       "      <th>std</th>\n",
       "      <th>min</th>\n",
       "      <th>25%</th>\n",
       "      <th>50%</th>\n",
       "      <th>75%</th>\n",
       "      <th>max</th>\n",
       "    </tr>\n",
       "  </thead>\n",
       "  <tbody>\n",
       "    <tr>\n",
       "      <th>ID</th>\n",
       "      <td>2208.0000</td>\n",
       "      <td>5590.3822</td>\n",
       "      <td>3238.7851</td>\n",
       "      <td>0.0000</td>\n",
       "      <td>2834.7500</td>\n",
       "      <td>5468.0000</td>\n",
       "      <td>8416.5000</td>\n",
       "      <td>11191.0000</td>\n",
       "    </tr>\n",
       "    <tr>\n",
       "      <th>Recency</th>\n",
       "      <td>2208.0000</td>\n",
       "      <td>49.7115</td>\n",
       "      <td>28.6108</td>\n",
       "      <td>1.0000</td>\n",
       "      <td>25.0000</td>\n",
       "      <td>50.0000</td>\n",
       "      <td>74.0000</td>\n",
       "      <td>99.0000</td>\n",
       "    </tr>\n",
       "    <tr>\n",
       "      <th>frequency</th>\n",
       "      <td>2208.0000</td>\n",
       "      <td>14.8863</td>\n",
       "      <td>7.6548</td>\n",
       "      <td>1.0000</td>\n",
       "      <td>8.0000</td>\n",
       "      <td>15.0000</td>\n",
       "      <td>21.0000</td>\n",
       "      <td>44.0000</td>\n",
       "    </tr>\n",
       "    <tr>\n",
       "      <th>monetary</th>\n",
       "      <td>2208.0000</td>\n",
       "      <td>608.8596</td>\n",
       "      <td>604.0864</td>\n",
       "      <td>8.0000</td>\n",
       "      <td>68.0000</td>\n",
       "      <td>397.5000</td>\n",
       "      <td>1048.2500</td>\n",
       "      <td>2525.0000</td>\n",
       "    </tr>\n",
       "  </tbody>\n",
       "</table>\n",
       "</div>"
      ],
      "text/plain": [
       "              count      mean       std    min       25%       50%       75%  \\\n",
       "ID        2208.0000 5590.3822 3238.7851 0.0000 2834.7500 5468.0000 8416.5000   \n",
       "Recency   2208.0000   49.7115   28.6108 1.0000   25.0000   50.0000   74.0000   \n",
       "frequency 2208.0000   14.8863    7.6548 1.0000    8.0000   15.0000   21.0000   \n",
       "monetary  2208.0000  608.8596  604.0864 8.0000   68.0000  397.5000 1048.2500   \n",
       "\n",
       "                 max  \n",
       "ID        11191.0000  \n",
       "Recency      99.0000  \n",
       "frequency    44.0000  \n",
       "monetary   2525.0000  "
      ]
     },
     "execution_count": 26,
     "metadata": {},
     "output_type": "execute_result"
    }
   ],
   "source": [
    "rfm.describe().T"
   ]
  },
  {
   "cell_type": "code",
   "execution_count": 27,
   "id": "df61ca63",
   "metadata": {
    "execution": {
     "iopub.execute_input": "2023-10-22T15:51:04.479250Z",
     "iopub.status.busy": "2023-10-22T15:51:04.478493Z",
     "iopub.status.idle": "2023-10-22T15:51:04.486069Z",
     "shell.execute_reply": "2023-10-22T15:51:04.485204Z"
    },
    "papermill": {
     "duration": 0.045287,
     "end_time": "2023-10-22T15:51:04.488234",
     "exception": false,
     "start_time": "2023-10-22T15:51:04.442947",
     "status": "completed"
    },
    "tags": []
   },
   "outputs": [
    {
     "data": {
      "text/plain": [
       "(2208, 4)"
      ]
     },
     "execution_count": 27,
     "metadata": {},
     "output_type": "execute_result"
    }
   ],
   "source": [
    "rfm.shape"
   ]
  },
  {
   "cell_type": "code",
   "execution_count": 28,
   "id": "58b10e2a",
   "metadata": {
    "execution": {
     "iopub.execute_input": "2023-10-22T15:51:04.559729Z",
     "iopub.status.busy": "2023-10-22T15:51:04.559196Z",
     "iopub.status.idle": "2023-10-22T15:51:04.570887Z",
     "shell.execute_reply": "2023-10-22T15:51:04.569527Z"
    },
    "papermill": {
     "duration": 0.051658,
     "end_time": "2023-10-22T15:51:04.573871",
     "exception": false,
     "start_time": "2023-10-22T15:51:04.522213",
     "status": "completed"
    },
    "tags": []
   },
   "outputs": [],
   "source": [
    "rfm[\"recency_score\"] = pd.qcut(rfm['Recency'], 5, labels=[5, 4, 3, 2, 1])"
   ]
  },
  {
   "cell_type": "code",
   "execution_count": 29,
   "id": "675d57c2",
   "metadata": {
    "execution": {
     "iopub.execute_input": "2023-10-22T15:51:04.643656Z",
     "iopub.status.busy": "2023-10-22T15:51:04.642917Z",
     "iopub.status.idle": "2023-10-22T15:51:04.655211Z",
     "shell.execute_reply": "2023-10-22T15:51:04.653740Z"
    },
    "papermill": {
     "duration": 0.051064,
     "end_time": "2023-10-22T15:51:04.658267",
     "exception": false,
     "start_time": "2023-10-22T15:51:04.607203",
     "status": "completed"
    },
    "tags": []
   },
   "outputs": [],
   "source": [
    "rfm[\"frequency_score\"] = pd.qcut(rfm['frequency'].rank(method=\"first\"), 5, labels=[1, 2, 3, 4, 5])"
   ]
  },
  {
   "cell_type": "code",
   "execution_count": 30,
   "id": "15ab9a94",
   "metadata": {
    "execution": {
     "iopub.execute_input": "2023-10-22T15:51:04.728107Z",
     "iopub.status.busy": "2023-10-22T15:51:04.727114Z",
     "iopub.status.idle": "2023-10-22T15:51:04.736989Z",
     "shell.execute_reply": "2023-10-22T15:51:04.735506Z"
    },
    "papermill": {
     "duration": 0.047924,
     "end_time": "2023-10-22T15:51:04.739711",
     "exception": false,
     "start_time": "2023-10-22T15:51:04.691787",
     "status": "completed"
    },
    "tags": []
   },
   "outputs": [],
   "source": [
    "rfm[\"monetary_score\"] = pd.qcut(rfm['monetary'], 5, labels=[1, 2, 3, 4, 5])"
   ]
  },
  {
   "cell_type": "code",
   "execution_count": 31,
   "id": "88aaf2b3",
   "metadata": {
    "execution": {
     "iopub.execute_input": "2023-10-22T15:51:04.812423Z",
     "iopub.status.busy": "2023-10-22T15:51:04.811222Z",
     "iopub.status.idle": "2023-10-22T15:51:04.827593Z",
     "shell.execute_reply": "2023-10-22T15:51:04.826233Z"
    },
    "papermill": {
     "duration": 0.056086,
     "end_time": "2023-10-22T15:51:04.830536",
     "exception": false,
     "start_time": "2023-10-22T15:51:04.774450",
     "status": "completed"
    },
    "tags": []
   },
   "outputs": [
    {
     "data": {
      "text/html": [
       "<div>\n",
       "<style scoped>\n",
       "    .dataframe tbody tr th:only-of-type {\n",
       "        vertical-align: middle;\n",
       "    }\n",
       "\n",
       "    .dataframe tbody tr th {\n",
       "        vertical-align: top;\n",
       "    }\n",
       "\n",
       "    .dataframe thead th {\n",
       "        text-align: right;\n",
       "    }\n",
       "</style>\n",
       "<table border=\"1\" class=\"dataframe\">\n",
       "  <thead>\n",
       "    <tr style=\"text-align: right;\">\n",
       "      <th></th>\n",
       "      <th>ID</th>\n",
       "      <th>Recency</th>\n",
       "      <th>frequency</th>\n",
       "      <th>monetary</th>\n",
       "      <th>recency_score</th>\n",
       "      <th>frequency_score</th>\n",
       "      <th>monetary_score</th>\n",
       "    </tr>\n",
       "  </thead>\n",
       "  <tbody>\n",
       "    <tr>\n",
       "      <th>0</th>\n",
       "      <td>5524</td>\n",
       "      <td>58</td>\n",
       "      <td>25</td>\n",
       "      <td>1617</td>\n",
       "      <td>3</td>\n",
       "      <td>5</td>\n",
       "      <td>5</td>\n",
       "    </tr>\n",
       "    <tr>\n",
       "      <th>1</th>\n",
       "      <td>2174</td>\n",
       "      <td>38</td>\n",
       "      <td>6</td>\n",
       "      <td>27</td>\n",
       "      <td>4</td>\n",
       "      <td>1</td>\n",
       "      <td>1</td>\n",
       "    </tr>\n",
       "    <tr>\n",
       "      <th>2</th>\n",
       "      <td>4141</td>\n",
       "      <td>26</td>\n",
       "      <td>21</td>\n",
       "      <td>776</td>\n",
       "      <td>4</td>\n",
       "      <td>4</td>\n",
       "      <td>4</td>\n",
       "    </tr>\n",
       "    <tr>\n",
       "      <th>3</th>\n",
       "      <td>6182</td>\n",
       "      <td>26</td>\n",
       "      <td>8</td>\n",
       "      <td>53</td>\n",
       "      <td>4</td>\n",
       "      <td>2</td>\n",
       "      <td>1</td>\n",
       "    </tr>\n",
       "    <tr>\n",
       "      <th>4</th>\n",
       "      <td>5324</td>\n",
       "      <td>94</td>\n",
       "      <td>19</td>\n",
       "      <td>422</td>\n",
       "      <td>1</td>\n",
       "      <td>4</td>\n",
       "      <td>3</td>\n",
       "    </tr>\n",
       "  </tbody>\n",
       "</table>\n",
       "</div>"
      ],
      "text/plain": [
       "     ID  Recency  frequency  monetary recency_score frequency_score  \\\n",
       "0  5524       58         25      1617             3               5   \n",
       "1  2174       38          6        27             4               1   \n",
       "2  4141       26         21       776             4               4   \n",
       "3  6182       26          8        53             4               2   \n",
       "4  5324       94         19       422             1               4   \n",
       "\n",
       "  monetary_score  \n",
       "0              5  \n",
       "1              1  \n",
       "2              4  \n",
       "3              1  \n",
       "4              3  "
      ]
     },
     "execution_count": 31,
     "metadata": {},
     "output_type": "execute_result"
    }
   ],
   "source": [
    "rfm.head()"
   ]
  },
  {
   "cell_type": "markdown",
   "id": "1a172a16",
   "metadata": {
    "papermill": {
     "duration": 0.034938,
     "end_time": "2023-10-22T15:51:04.900549",
     "exception": false,
     "start_time": "2023-10-22T15:51:04.865611",
     "status": "completed"
    },
    "tags": []
   },
   "source": [
    "<div style=\"border-radius:10px; border:#D0C2F0 solid; padding: 15px; background-color: #FFF0F4; font-size:100%; text-align:left\">\n",
    "\n",
    "<h3 align=\"left\"><font color='#5E5273'>📄 Notes:</font></h3>\n",
    "    \n",
    "* The priority order for metric importance in RFM Score calculation is as follows: **frequency > recency > monetary**. Consequently, we only need to consider 'recency' and 'frequency' in our analysis"
   ]
  },
  {
   "cell_type": "code",
   "execution_count": 32,
   "id": "d93fcfae",
   "metadata": {
    "execution": {
     "iopub.execute_input": "2023-10-22T15:51:04.971805Z",
     "iopub.status.busy": "2023-10-22T15:51:04.971220Z",
     "iopub.status.idle": "2023-10-22T15:51:04.982528Z",
     "shell.execute_reply": "2023-10-22T15:51:04.981499Z"
    },
    "papermill": {
     "duration": 0.050001,
     "end_time": "2023-10-22T15:51:04.985151",
     "exception": false,
     "start_time": "2023-10-22T15:51:04.935150",
     "status": "completed"
    },
    "tags": []
   },
   "outputs": [],
   "source": [
    "rfm[\"RFM_SCORE\"] = (rfm['recency_score'].astype(str) + rfm['frequency_score'].astype(str))"
   ]
  },
  {
   "cell_type": "markdown",
   "id": "a6a6926e",
   "metadata": {
    "papermill": {
     "duration": 0.034004,
     "end_time": "2023-10-22T15:51:05.053922",
     "exception": false,
     "start_time": "2023-10-22T15:51:05.019918",
     "status": "completed"
    },
    "tags": []
   },
   "source": [
    "<div style=\"border-radius:10px; border:#6B8BA0 solid; padding: 15px; background-color: #F2EADF; font-size:100%; text-align:left\">\n",
    "\n",
    "<h3 align=\"left\"><font color='#6B8BA0'>👀 Explanations of Segments: </font></h3>\n",
    "    \n",
    "1. **About_to_sleep** : Encourage customers in this segment to re-engage by implementing stimulating campaigns. Special offers, discounts, or loyalty programs could be utilized to regain their interest.\n",
    "2. **At_risk** : Since customers in this segment are at risk of attrition, special offers or discounts can be provided to win them back. Additionally, personalized services can be offered to enhance customer satisfaction.\n",
    "3.**Cant_loose** : Customers in this segment may have demonstrated loyalty. Thus, you can strengthen their loyalty by offering loyalty programs or special privileges to reward them for their commitment.\n",
    "4. **Champions** : Customer loyalty is high in this segment. Retain their loyalty by offering special deals or loyalty programs. Additionally, consider their feedback to improve your products or services.\n",
    "5. **Hibernating** : Implement stimulating campaigns to regain the interest of customers in this segment. Strategies such as sending personalized offers or reminders could be utilized.\n",
    "6. **Loyal_customers** : Customers in this segment exhibit high loyalty. Offer them exclusive deals or privileges to strengthen their commitment. Additionally, gather their recommendations and feedback to enhance service quality.\n",
    "7. **Need_attention** : Attract the attention of customers in this segment by providing personalized offers or services. Ensuring excellent customer support is vital to enhance customer satisfaction.\n",
    "8. **New_customers** : Welcome these customers with welcome offers or discounts to establish their loyalty. Additionally, gather their feedback to improve your products or services.\n",
    "9. **Potential_loyalist** : Offer personalized deals or exclusive privileges to enhance the loyalty of customers in this segment. Regular interaction is crucial to increase brand awareness.\n",
    "10. **Promising** : Attract the interest of customers in this segment by implementing special offers or campaigns. Providing a good customer experience is essential to enhance customer satisfaction."
   ]
  },
  {
   "cell_type": "markdown",
   "id": "7ba79418",
   "metadata": {
    "papermill": {
     "duration": 0.033362,
     "end_time": "2023-10-22T15:51:05.123486",
     "exception": false,
     "start_time": "2023-10-22T15:51:05.090124",
     "status": "completed"
    },
    "tags": []
   },
   "source": [
    "# **<center><span style=\"color:#f7c297;font-family:cursive;font-size:100%\"> -RFM Table- </span></center>**\n",
    "<center> <img src=https://i.imgur.com/MYgXofm.png> <img> </center>"
   ]
  },
  {
   "cell_type": "code",
   "execution_count": 33,
   "id": "396c853e",
   "metadata": {
    "execution": {
     "iopub.execute_input": "2023-10-22T15:51:05.194792Z",
     "iopub.status.busy": "2023-10-22T15:51:05.193746Z",
     "iopub.status.idle": "2023-10-22T15:51:05.200642Z",
     "shell.execute_reply": "2023-10-22T15:51:05.199606Z"
    },
    "papermill": {
     "duration": 0.045135,
     "end_time": "2023-10-22T15:51:05.203346",
     "exception": false,
     "start_time": "2023-10-22T15:51:05.158211",
     "status": "completed"
    },
    "tags": []
   },
   "outputs": [],
   "source": [
    "seg_map = {\n",
    "    r'[1-2][1-2]': 'hibernating',\n",
    "    r'[1-2][3-4]': 'at_Risk',\n",
    "    r'[1-2]5': 'cant_loose',\n",
    "    r'3[1-2]': 'about_to_sleep',\n",
    "    r'33': 'need_attention',\n",
    "    r'[3-4][4-5]': 'loyal_customers',\n",
    "    r'41': 'promising',\n",
    "    r'51': 'new_customers',\n",
    "    r'[4-5][2-3]': 'potential_loyalists',\n",
    "    r'5[4-5]': 'champions'\n",
    "}"
   ]
  },
  {
   "cell_type": "code",
   "execution_count": 34,
   "id": "c0655875",
   "metadata": {
    "execution": {
     "iopub.execute_input": "2023-10-22T15:51:05.274641Z",
     "iopub.status.busy": "2023-10-22T15:51:05.274121Z",
     "iopub.status.idle": "2023-10-22T15:51:05.337516Z",
     "shell.execute_reply": "2023-10-22T15:51:05.336172Z"
    },
    "papermill": {
     "duration": 0.102745,
     "end_time": "2023-10-22T15:51:05.340358",
     "exception": false,
     "start_time": "2023-10-22T15:51:05.237613",
     "status": "completed"
    },
    "tags": []
   },
   "outputs": [],
   "source": [
    "rfm['segment'] = rfm['RFM_SCORE'].replace(seg_map, regex=True)"
   ]
  },
  {
   "cell_type": "code",
   "execution_count": 35,
   "id": "9b0aea31",
   "metadata": {
    "execution": {
     "iopub.execute_input": "2023-10-22T15:51:05.409798Z",
     "iopub.status.busy": "2023-10-22T15:51:05.409232Z",
     "iopub.status.idle": "2023-10-22T15:51:05.426967Z",
     "shell.execute_reply": "2023-10-22T15:51:05.425716Z"
    },
    "papermill": {
     "duration": 0.055237,
     "end_time": "2023-10-22T15:51:05.429632",
     "exception": false,
     "start_time": "2023-10-22T15:51:05.374395",
     "status": "completed"
    },
    "tags": []
   },
   "outputs": [
    {
     "data": {
      "text/html": [
       "<div>\n",
       "<style scoped>\n",
       "    .dataframe tbody tr th:only-of-type {\n",
       "        vertical-align: middle;\n",
       "    }\n",
       "\n",
       "    .dataframe tbody tr th {\n",
       "        vertical-align: top;\n",
       "    }\n",
       "\n",
       "    .dataframe thead th {\n",
       "        text-align: right;\n",
       "    }\n",
       "</style>\n",
       "<table border=\"1\" class=\"dataframe\">\n",
       "  <thead>\n",
       "    <tr style=\"text-align: right;\">\n",
       "      <th></th>\n",
       "      <th>ID</th>\n",
       "      <th>Recency</th>\n",
       "      <th>frequency</th>\n",
       "      <th>monetary</th>\n",
       "      <th>recency_score</th>\n",
       "      <th>frequency_score</th>\n",
       "      <th>monetary_score</th>\n",
       "      <th>RFM_SCORE</th>\n",
       "      <th>segment</th>\n",
       "    </tr>\n",
       "  </thead>\n",
       "  <tbody>\n",
       "    <tr>\n",
       "      <th>0</th>\n",
       "      <td>5524</td>\n",
       "      <td>58</td>\n",
       "      <td>25</td>\n",
       "      <td>1617</td>\n",
       "      <td>3</td>\n",
       "      <td>5</td>\n",
       "      <td>5</td>\n",
       "      <td>35</td>\n",
       "      <td>loyal_customers</td>\n",
       "    </tr>\n",
       "    <tr>\n",
       "      <th>1</th>\n",
       "      <td>2174</td>\n",
       "      <td>38</td>\n",
       "      <td>6</td>\n",
       "      <td>27</td>\n",
       "      <td>4</td>\n",
       "      <td>1</td>\n",
       "      <td>1</td>\n",
       "      <td>41</td>\n",
       "      <td>promising</td>\n",
       "    </tr>\n",
       "    <tr>\n",
       "      <th>2</th>\n",
       "      <td>4141</td>\n",
       "      <td>26</td>\n",
       "      <td>21</td>\n",
       "      <td>776</td>\n",
       "      <td>4</td>\n",
       "      <td>4</td>\n",
       "      <td>4</td>\n",
       "      <td>44</td>\n",
       "      <td>loyal_customers</td>\n",
       "    </tr>\n",
       "    <tr>\n",
       "      <th>3</th>\n",
       "      <td>6182</td>\n",
       "      <td>26</td>\n",
       "      <td>8</td>\n",
       "      <td>53</td>\n",
       "      <td>4</td>\n",
       "      <td>2</td>\n",
       "      <td>1</td>\n",
       "      <td>42</td>\n",
       "      <td>potential_loyalists</td>\n",
       "    </tr>\n",
       "    <tr>\n",
       "      <th>4</th>\n",
       "      <td>5324</td>\n",
       "      <td>94</td>\n",
       "      <td>19</td>\n",
       "      <td>422</td>\n",
       "      <td>1</td>\n",
       "      <td>4</td>\n",
       "      <td>3</td>\n",
       "      <td>14</td>\n",
       "      <td>at_Risk</td>\n",
       "    </tr>\n",
       "  </tbody>\n",
       "</table>\n",
       "</div>"
      ],
      "text/plain": [
       "     ID  Recency  frequency  monetary recency_score frequency_score  \\\n",
       "0  5524       58         25      1617             3               5   \n",
       "1  2174       38          6        27             4               1   \n",
       "2  4141       26         21       776             4               4   \n",
       "3  6182       26          8        53             4               2   \n",
       "4  5324       94         19       422             1               4   \n",
       "\n",
       "  monetary_score RFM_SCORE              segment  \n",
       "0              5        35      loyal_customers  \n",
       "1              1        41            promising  \n",
       "2              4        44      loyal_customers  \n",
       "3              1        42  potential_loyalists  \n",
       "4              3        14              at_Risk  "
      ]
     },
     "execution_count": 35,
     "metadata": {},
     "output_type": "execute_result"
    }
   ],
   "source": [
    "rfm.head()"
   ]
  },
  {
   "cell_type": "code",
   "execution_count": 36,
   "id": "09bbdd26",
   "metadata": {
    "execution": {
     "iopub.execute_input": "2023-10-22T15:51:05.500347Z",
     "iopub.status.busy": "2023-10-22T15:51:05.499848Z",
     "iopub.status.idle": "2023-10-22T15:51:05.527816Z",
     "shell.execute_reply": "2023-10-22T15:51:05.526499Z"
    },
    "papermill": {
     "duration": 0.067777,
     "end_time": "2023-10-22T15:51:05.531431",
     "exception": false,
     "start_time": "2023-10-22T15:51:05.463654",
     "status": "completed"
    },
    "tags": []
   },
   "outputs": [
    {
     "data": {
      "text/html": [
       "<div>\n",
       "<style scoped>\n",
       "    .dataframe tbody tr th:only-of-type {\n",
       "        vertical-align: middle;\n",
       "    }\n",
       "\n",
       "    .dataframe tbody tr th {\n",
       "        vertical-align: top;\n",
       "    }\n",
       "\n",
       "    .dataframe thead tr th {\n",
       "        text-align: left;\n",
       "    }\n",
       "\n",
       "    .dataframe thead tr:last-of-type th {\n",
       "        text-align: right;\n",
       "    }\n",
       "</style>\n",
       "<table border=\"1\" class=\"dataframe\">\n",
       "  <thead>\n",
       "    <tr>\n",
       "      <th></th>\n",
       "      <th colspan=\"2\" halign=\"left\">Recency</th>\n",
       "      <th colspan=\"2\" halign=\"left\">frequency</th>\n",
       "      <th colspan=\"2\" halign=\"left\">monetary</th>\n",
       "    </tr>\n",
       "    <tr>\n",
       "      <th></th>\n",
       "      <th>mean</th>\n",
       "      <th>count</th>\n",
       "      <th>mean</th>\n",
       "      <th>count</th>\n",
       "      <th>mean</th>\n",
       "      <th>count</th>\n",
       "    </tr>\n",
       "    <tr>\n",
       "      <th>segment</th>\n",
       "      <th></th>\n",
       "      <th></th>\n",
       "      <th></th>\n",
       "      <th></th>\n",
       "      <th></th>\n",
       "      <th></th>\n",
       "    </tr>\n",
       "  </thead>\n",
       "  <tbody>\n",
       "    <tr>\n",
       "      <th>about_to_sleep</th>\n",
       "      <td>50.1190</td>\n",
       "      <td>168</td>\n",
       "      <td>6.9345</td>\n",
       "      <td>168</td>\n",
       "      <td>79.1607</td>\n",
       "      <td>168</td>\n",
       "    </tr>\n",
       "    <tr>\n",
       "      <th>at_Risk</th>\n",
       "      <td>78.6676</td>\n",
       "      <td>373</td>\n",
       "      <td>17.3807</td>\n",
       "      <td>373</td>\n",
       "      <td>868.4236</td>\n",
       "      <td>373</td>\n",
       "    </tr>\n",
       "    <tr>\n",
       "      <th>cant_loose</th>\n",
       "      <td>79.8193</td>\n",
       "      <td>166</td>\n",
       "      <td>25.8133</td>\n",
       "      <td>166</td>\n",
       "      <td>1212.9036</td>\n",
       "      <td>166</td>\n",
       "    </tr>\n",
       "    <tr>\n",
       "      <th>champions</th>\n",
       "      <td>10.0181</td>\n",
       "      <td>166</td>\n",
       "      <td>22.8855</td>\n",
       "      <td>166</td>\n",
       "      <td>1094.1506</td>\n",
       "      <td>166</td>\n",
       "    </tr>\n",
       "    <tr>\n",
       "      <th>hibernating</th>\n",
       "      <td>80.1458</td>\n",
       "      <td>343</td>\n",
       "      <td>7.0729</td>\n",
       "      <td>343</td>\n",
       "      <td>84.3061</td>\n",
       "      <td>343</td>\n",
       "    </tr>\n",
       "    <tr>\n",
       "      <th>loyal_customers</th>\n",
       "      <td>40.2978</td>\n",
       "      <td>356</td>\n",
       "      <td>23.0112</td>\n",
       "      <td>356</td>\n",
       "      <td>1109.4466</td>\n",
       "      <td>356</td>\n",
       "    </tr>\n",
       "    <tr>\n",
       "      <th>need_attention</th>\n",
       "      <td>50.5526</td>\n",
       "      <td>76</td>\n",
       "      <td>14.7500</td>\n",
       "      <td>76</td>\n",
       "      <td>579.8026</td>\n",
       "      <td>76</td>\n",
       "    </tr>\n",
       "    <tr>\n",
       "      <th>new_customers</th>\n",
       "      <td>10.3626</td>\n",
       "      <td>91</td>\n",
       "      <td>4.9451</td>\n",
       "      <td>91</td>\n",
       "      <td>42.0549</td>\n",
       "      <td>91</td>\n",
       "    </tr>\n",
       "    <tr>\n",
       "      <th>potential_loyalists</th>\n",
       "      <td>20.1147</td>\n",
       "      <td>375</td>\n",
       "      <td>11.9307</td>\n",
       "      <td>375</td>\n",
       "      <td>397.5200</td>\n",
       "      <td>375</td>\n",
       "    </tr>\n",
       "    <tr>\n",
       "      <th>promising</th>\n",
       "      <td>31.0957</td>\n",
       "      <td>94</td>\n",
       "      <td>5.0426</td>\n",
       "      <td>94</td>\n",
       "      <td>35.4043</td>\n",
       "      <td>94</td>\n",
       "    </tr>\n",
       "  </tbody>\n",
       "</table>\n",
       "</div>"
      ],
      "text/plain": [
       "                    Recency       frequency        monetary      \n",
       "                       mean count      mean count      mean count\n",
       "segment                                                          \n",
       "about_to_sleep      50.1190   168    6.9345   168   79.1607   168\n",
       "at_Risk             78.6676   373   17.3807   373  868.4236   373\n",
       "cant_loose          79.8193   166   25.8133   166 1212.9036   166\n",
       "champions           10.0181   166   22.8855   166 1094.1506   166\n",
       "hibernating         80.1458   343    7.0729   343   84.3061   343\n",
       "loyal_customers     40.2978   356   23.0112   356 1109.4466   356\n",
       "need_attention      50.5526    76   14.7500    76  579.8026    76\n",
       "new_customers       10.3626    91    4.9451    91   42.0549    91\n",
       "potential_loyalists 20.1147   375   11.9307   375  397.5200   375\n",
       "promising           31.0957    94    5.0426    94   35.4043    94"
      ]
     },
     "execution_count": 36,
     "metadata": {},
     "output_type": "execute_result"
    }
   ],
   "source": [
    "rfm[[\"segment\", \"Recency\", \"frequency\", \"monetary\"]].groupby(\"segment\").agg([\"mean\", \"count\"])"
   ]
  },
  {
   "cell_type": "markdown",
   "id": "59aebaa4",
   "metadata": {
    "papermill": {
     "duration": 0.033866,
     "end_time": "2023-10-22T15:51:05.600773",
     "exception": false,
     "start_time": "2023-10-22T15:51:05.566907",
     "status": "completed"
    },
    "tags": []
   },
   "source": [
    "<div style=\"border-radius:10px; border:#D0C2F0 solid; padding: 15px; background-color: #FFF0F4; font-size:100%; text-align:left\">\n",
    "\n",
    "<h3 align=\"left\"><font color='#5E5273'>📄 Inferences:</font></h3>\n",
    "    \n",
    "* **Let's examine some segments;**\n",
    "    \n",
    "    1. When we examine the 'Champions' segment, we can clearly see why it holds the highest value for us. This group exhibits the lowest 'Recency' value, signifying that they are our most recent and highly active shoppers. Furthermore, their high 'frequency' values further underline their significance as our most valuable customers.\n",
    "    1. Let's now take a closer look at the 'can't lose' segment as another group. On average, their 'Recency' values are relatively low. However, what sets this segment apart is its remarkable revenue generation, driven by exceptionally high 'frequency' values."
   ]
  },
  {
   "cell_type": "markdown",
   "id": "a183f9d9",
   "metadata": {
    "papermill": {
     "duration": 0.033782,
     "end_time": "2023-10-22T15:51:05.669263",
     "exception": false,
     "start_time": "2023-10-22T15:51:05.635481",
     "status": "completed"
    },
    "tags": []
   },
   "source": [
    "<div style=\"border-radius:10px; border:#D0C2F0 solid; padding: 15px; background-color: #FFF0F4; font-size:100%; text-align:left\">\n",
    "\n",
    "<h3 align=\"left\"><font color='#5E5273'>📄 Why is this segmentation important?:</font></h3>\n",
    "    \n",
    "1. **Customer Understanding:** RFM segmentation helps companies gain a deeper understanding of their customer base. It allows businesses to categorize customers into different segments based on their recent purchase history, purchase frequency, and monetary value. This segmentation provides insights into customer behavior and preferences.\n",
    "2. **Targeted Marketing:** RFM segments enable companies to create targeted marketing campaigns. By identifying high-value customers, at-risk customers, or loyal customers, companies can tailor their marketing efforts to specific customer groups. This leads to more effective and efficient marketing campaigns.\n",
    "3. **Customer Retention:** RFM analysis helps in customer retention. By identifying and focusing on at-risk or lapsed customers (low recency and frequency), companies can implement strategies to re-engage these customers and prevent them from churning.\n",
    "4. **Cross-Selling and Up-Selling:** Companies can use RFM segments to identify cross-selling and up-selling opportunities. For example, they can recommend complementary products to high-value customers to increase their monetary value."
   ]
  },
  {
   "cell_type": "markdown",
   "id": "f3c8e16f",
   "metadata": {
    "papermill": {
     "duration": 0.034823,
     "end_time": "2023-10-22T15:51:05.739617",
     "exception": false,
     "start_time": "2023-10-22T15:51:05.704794",
     "status": "completed"
    },
    "tags": []
   },
   "source": [
    "<a id = \"5\"></a><br>\n",
    "### <p style=\"font-family:JetBrains Mono; font-weight:bold; letter-spacing: 2px; color:#005b96; font-size:160%; text-align:left;padding: 0px; border-bottom: 3px solid\">Customer Life Time Value Prediction (CLTV)</p>"
   ]
  },
  {
   "cell_type": "code",
   "execution_count": 37,
   "id": "7cb121e0",
   "metadata": {
    "execution": {
     "iopub.execute_input": "2023-10-22T15:51:05.812233Z",
     "iopub.status.busy": "2023-10-22T15:51:05.811087Z",
     "iopub.status.idle": "2023-10-22T15:51:22.350106Z",
     "shell.execute_reply": "2023-10-22T15:51:22.348624Z"
    },
    "papermill": {
     "duration": 16.578943,
     "end_time": "2023-10-22T15:51:22.353501",
     "exception": false,
     "start_time": "2023-10-22T15:51:05.774558",
     "status": "completed"
    },
    "tags": []
   },
   "outputs": [
    {
     "name": "stdout",
     "output_type": "stream",
     "text": [
      "Collecting lifetimes\r\n",
      "  Downloading Lifetimes-0.11.3-py3-none-any.whl (584 kB)\r\n",
      "\u001b[2K     \u001b[90m━━━━━━━━━━━━━━━━━━━━━━━━━━━━━━━━━━━━━━━\u001b[0m \u001b[32m584.2/584.2 kB\u001b[0m \u001b[31m9.6 MB/s\u001b[0m eta \u001b[36m0:00:00\u001b[0m\r\n",
      "\u001b[?25hRequirement already satisfied: numpy>=1.10.0 in /opt/conda/lib/python3.10/site-packages (from lifetimes) (1.23.5)\r\n",
      "Requirement already satisfied: scipy>=1.0.0 in /opt/conda/lib/python3.10/site-packages (from lifetimes) (1.11.2)\r\n",
      "Requirement already satisfied: pandas>=0.24.0 in /opt/conda/lib/python3.10/site-packages (from lifetimes) (2.0.3)\r\n",
      "Collecting autograd>=1.2.0 (from lifetimes)\r\n",
      "  Downloading autograd-1.6.2-py3-none-any.whl (49 kB)\r\n",
      "\u001b[2K     \u001b[90m━━━━━━━━━━━━━━━━━━━━━━━━━━━━━━━━━━━━━━━━\u001b[0m \u001b[32m49.3/49.3 kB\u001b[0m \u001b[31m3.9 MB/s\u001b[0m eta \u001b[36m0:00:00\u001b[0m\r\n",
      "\u001b[?25hRequirement already satisfied: dill>=0.2.6 in /opt/conda/lib/python3.10/site-packages (from lifetimes) (0.3.7)\r\n",
      "Requirement already satisfied: future>=0.15.2 in /opt/conda/lib/python3.10/site-packages (from autograd>=1.2.0->lifetimes) (0.18.3)\r\n",
      "Requirement already satisfied: python-dateutil>=2.8.2 in /opt/conda/lib/python3.10/site-packages (from pandas>=0.24.0->lifetimes) (2.8.2)\r\n",
      "Requirement already satisfied: pytz>=2020.1 in /opt/conda/lib/python3.10/site-packages (from pandas>=0.24.0->lifetimes) (2023.3)\r\n",
      "Requirement already satisfied: tzdata>=2022.1 in /opt/conda/lib/python3.10/site-packages (from pandas>=0.24.0->lifetimes) (2023.3)\r\n",
      "Requirement already satisfied: six>=1.5 in /opt/conda/lib/python3.10/site-packages (from python-dateutil>=2.8.2->pandas>=0.24.0->lifetimes) (1.16.0)\r\n",
      "Installing collected packages: autograd, lifetimes\r\n",
      "Successfully installed autograd-1.6.2 lifetimes-0.11.3\r\n"
     ]
    }
   ],
   "source": [
    "!pip install lifetimes"
   ]
  },
  {
   "cell_type": "code",
   "execution_count": 38,
   "id": "fa8f7c3e",
   "metadata": {
    "execution": {
     "iopub.execute_input": "2023-10-22T15:51:22.430205Z",
     "iopub.status.busy": "2023-10-22T15:51:22.429716Z",
     "iopub.status.idle": "2023-10-22T15:51:22.542912Z",
     "shell.execute_reply": "2023-10-22T15:51:22.541549Z"
    },
    "papermill": {
     "duration": 0.155644,
     "end_time": "2023-10-22T15:51:22.545988",
     "exception": false,
     "start_time": "2023-10-22T15:51:22.390344",
     "status": "completed"
    },
    "tags": []
   },
   "outputs": [],
   "source": [
    "from lifetimes import BetaGeoFitter\n",
    "from lifetimes import GammaGammaFitter\n",
    "from lifetimes.plotting import plot_period_transactions\n",
    "from sklearn.preprocessing import MinMaxScaler"
   ]
  },
  {
   "cell_type": "markdown",
   "id": "91c9c04f",
   "metadata": {
    "papermill": {
     "duration": 0.034823,
     "end_time": "2023-10-22T15:51:22.616679",
     "exception": false,
     "start_time": "2023-10-22T15:51:22.581856",
     "status": "completed"
    },
    "tags": []
   },
   "source": [
    "**Data Preparing**"
   ]
  },
  {
   "cell_type": "code",
   "execution_count": 39,
   "id": "ec3cbf9e",
   "metadata": {
    "execution": {
     "iopub.execute_input": "2023-10-22T15:51:22.692533Z",
     "iopub.status.busy": "2023-10-22T15:51:22.691506Z",
     "iopub.status.idle": "2023-10-22T15:51:22.698622Z",
     "shell.execute_reply": "2023-10-22T15:51:22.697691Z"
    },
    "papermill": {
     "duration": 0.04698,
     "end_time": "2023-10-22T15:51:22.701064",
     "exception": false,
     "start_time": "2023-10-22T15:51:22.654084",
     "status": "completed"
    },
    "tags": []
   },
   "outputs": [],
   "source": [
    "df = data.copy()"
   ]
  },
  {
   "cell_type": "code",
   "execution_count": 40,
   "id": "519b8710",
   "metadata": {
    "execution": {
     "iopub.execute_input": "2023-10-22T15:51:22.774844Z",
     "iopub.status.busy": "2023-10-22T15:51:22.774375Z",
     "iopub.status.idle": "2023-10-22T15:51:22.783065Z",
     "shell.execute_reply": "2023-10-22T15:51:22.781676Z"
    },
    "papermill": {
     "duration": 0.048194,
     "end_time": "2023-10-22T15:51:22.785793",
     "exception": false,
     "start_time": "2023-10-22T15:51:22.737599",
     "status": "completed"
    },
    "tags": []
   },
   "outputs": [],
   "source": [
    "df['Income'] = df['Income'].fillna(df['Income'].median())"
   ]
  },
  {
   "cell_type": "code",
   "execution_count": 41,
   "id": "82027f07",
   "metadata": {
    "execution": {
     "iopub.execute_input": "2023-10-22T15:51:22.858721Z",
     "iopub.status.busy": "2023-10-22T15:51:22.858201Z",
     "iopub.status.idle": "2023-10-22T15:51:22.878433Z",
     "shell.execute_reply": "2023-10-22T15:51:22.877067Z"
    },
    "papermill": {
     "duration": 0.059566,
     "end_time": "2023-10-22T15:51:22.881038",
     "exception": false,
     "start_time": "2023-10-22T15:51:22.821472",
     "status": "completed"
    },
    "tags": []
   },
   "outputs": [],
   "source": [
    "df['Dt_Customer'] = pd.to_datetime(df['Dt_Customer'], format=\"%d-%m-%Y\")"
   ]
  },
  {
   "cell_type": "code",
   "execution_count": 42,
   "id": "817d7610",
   "metadata": {
    "execution": {
     "iopub.execute_input": "2023-10-22T15:51:22.954164Z",
     "iopub.status.busy": "2023-10-22T15:51:22.953213Z",
     "iopub.status.idle": "2023-10-22T15:51:22.963768Z",
     "shell.execute_reply": "2023-10-22T15:51:22.962781Z"
    },
    "papermill": {
     "duration": 0.050239,
     "end_time": "2023-10-22T15:51:22.966246",
     "exception": false,
     "start_time": "2023-10-22T15:51:22.916007",
     "status": "completed"
    },
    "tags": []
   },
   "outputs": [],
   "source": [
    "df[\"last_order_date\"] = dt.datetime(2014, 10, 4) - pd.to_timedelta(df[\"Recency\"], unit='D')"
   ]
  },
  {
   "cell_type": "code",
   "execution_count": 43,
   "id": "0dad6c86",
   "metadata": {
    "execution": {
     "iopub.execute_input": "2023-10-22T15:51:23.039050Z",
     "iopub.status.busy": "2023-10-22T15:51:23.038546Z",
     "iopub.status.idle": "2023-10-22T15:51:23.048658Z",
     "shell.execute_reply": "2023-10-22T15:51:23.047690Z"
    },
    "papermill": {
     "duration": 0.048993,
     "end_time": "2023-10-22T15:51:23.051134",
     "exception": false,
     "start_time": "2023-10-22T15:51:23.002141",
     "status": "completed"
    },
    "tags": []
   },
   "outputs": [],
   "source": [
    "df[\"monetary\"] = df.loc[:,df.columns.str.contains(\"Mnt\")].sum(axis=1)"
   ]
  },
  {
   "cell_type": "code",
   "execution_count": 44,
   "id": "78502b8f",
   "metadata": {
    "execution": {
     "iopub.execute_input": "2023-10-22T15:51:23.123511Z",
     "iopub.status.busy": "2023-10-22T15:51:23.122983Z",
     "iopub.status.idle": "2023-10-22T15:51:23.132290Z",
     "shell.execute_reply": "2023-10-22T15:51:23.131115Z"
    },
    "papermill": {
     "duration": 0.048383,
     "end_time": "2023-10-22T15:51:23.134697",
     "exception": false,
     "start_time": "2023-10-22T15:51:23.086314",
     "status": "completed"
    },
    "tags": []
   },
   "outputs": [],
   "source": [
    "df[\"frequency\"] = df.loc[:,df.columns.str.contains(\"Purchases\")].sum(axis=1)"
   ]
  },
  {
   "cell_type": "code",
   "execution_count": 45,
   "id": "1027b5cd",
   "metadata": {
    "execution": {
     "iopub.execute_input": "2023-10-22T15:51:23.207267Z",
     "iopub.status.busy": "2023-10-22T15:51:23.206790Z",
     "iopub.status.idle": "2023-10-22T15:51:23.222238Z",
     "shell.execute_reply": "2023-10-22T15:51:23.221162Z"
    },
    "papermill": {
     "duration": 0.054849,
     "end_time": "2023-10-22T15:51:23.224735",
     "exception": false,
     "start_time": "2023-10-22T15:51:23.169886",
     "status": "completed"
    },
    "tags": []
   },
   "outputs": [],
   "source": [
    "cltv = pd.DataFrame()\n",
    "cltv[\"Recency_weekly\"] = (df[\"last_order_date\"] - df[\"Dt_Customer\"]).dt.days // 7\n",
    "cltv[\"T_weekly\"] = (dt.datetime(2014,10, 4) - df[\"Dt_Customer\"]).dt.days // 7\n",
    "cltv[\"frequency\"] = df[\"frequency\"]\n",
    "cltv[\"monetary\"] = df[\"monetary\"]\n",
    "cltv[\"monetary\"] = round(cltv[\"monetary\"] / cltv[\"frequency\"])\n",
    "cltv.index = df[\"ID\"]"
   ]
  },
  {
   "cell_type": "code",
   "execution_count": 46,
   "id": "e7e74999",
   "metadata": {
    "execution": {
     "iopub.execute_input": "2023-10-22T15:51:23.304594Z",
     "iopub.status.busy": "2023-10-22T15:51:23.303710Z",
     "iopub.status.idle": "2023-10-22T15:51:23.329259Z",
     "shell.execute_reply": "2023-10-22T15:51:23.328084Z"
    },
    "papermill": {
     "duration": 0.065357,
     "end_time": "2023-10-22T15:51:23.331952",
     "exception": false,
     "start_time": "2023-10-22T15:51:23.266595",
     "status": "completed"
    },
    "tags": []
   },
   "outputs": [
    {
     "data": {
      "text/html": [
       "<div>\n",
       "<style scoped>\n",
       "    .dataframe tbody tr th:only-of-type {\n",
       "        vertical-align: middle;\n",
       "    }\n",
       "\n",
       "    .dataframe tbody tr th {\n",
       "        vertical-align: top;\n",
       "    }\n",
       "\n",
       "    .dataframe thead th {\n",
       "        text-align: right;\n",
       "    }\n",
       "</style>\n",
       "<table border=\"1\" class=\"dataframe\">\n",
       "  <thead>\n",
       "    <tr style=\"text-align: right;\">\n",
       "      <th></th>\n",
       "      <th>count</th>\n",
       "      <th>mean</th>\n",
       "      <th>std</th>\n",
       "      <th>min</th>\n",
       "      <th>25%</th>\n",
       "      <th>50%</th>\n",
       "      <th>75%</th>\n",
       "      <th>max</th>\n",
       "    </tr>\n",
       "  </thead>\n",
       "  <tbody>\n",
       "    <tr>\n",
       "      <th>Recency_weekly</th>\n",
       "      <td>2240.0000</td>\n",
       "      <td>56.9371</td>\n",
       "      <td>29.0635</td>\n",
       "      <td>0.0000</td>\n",
       "      <td>32.0000</td>\n",
       "      <td>57.0000</td>\n",
       "      <td>82.0000</td>\n",
       "      <td>113.0000</td>\n",
       "    </tr>\n",
       "    <tr>\n",
       "      <th>T_weekly</th>\n",
       "      <td>2240.0000</td>\n",
       "      <td>63.9442</td>\n",
       "      <td>28.8969</td>\n",
       "      <td>13.0000</td>\n",
       "      <td>39.0000</td>\n",
       "      <td>64.0000</td>\n",
       "      <td>89.0000</td>\n",
       "      <td>113.0000</td>\n",
       "    </tr>\n",
       "    <tr>\n",
       "      <th>frequency</th>\n",
       "      <td>2240.0000</td>\n",
       "      <td>14.8621</td>\n",
       "      <td>7.6772</td>\n",
       "      <td>0.0000</td>\n",
       "      <td>8.0000</td>\n",
       "      <td>15.0000</td>\n",
       "      <td>21.0000</td>\n",
       "      <td>44.0000</td>\n",
       "    </tr>\n",
       "    <tr>\n",
       "      <th>monetary</th>\n",
       "      <td>2240.0000</td>\n",
       "      <td>inf</td>\n",
       "      <td>NaN</td>\n",
       "      <td>1.0000</td>\n",
       "      <td>10.0000</td>\n",
       "      <td>23.0000</td>\n",
       "      <td>46.0000</td>\n",
       "      <td>inf</td>\n",
       "    </tr>\n",
       "  </tbody>\n",
       "</table>\n",
       "</div>"
      ],
      "text/plain": [
       "                   count    mean     std     min     25%     50%     75%  \\\n",
       "Recency_weekly 2240.0000 56.9371 29.0635  0.0000 32.0000 57.0000 82.0000   \n",
       "T_weekly       2240.0000 63.9442 28.8969 13.0000 39.0000 64.0000 89.0000   \n",
       "frequency      2240.0000 14.8621  7.6772  0.0000  8.0000 15.0000 21.0000   \n",
       "monetary       2240.0000     inf     NaN  1.0000 10.0000 23.0000 46.0000   \n",
       "\n",
       "                    max  \n",
       "Recency_weekly 113.0000  \n",
       "T_weekly       113.0000  \n",
       "frequency       44.0000  \n",
       "monetary            inf  "
      ]
     },
     "execution_count": 46,
     "metadata": {},
     "output_type": "execute_result"
    }
   ],
   "source": [
    "cltv.describe().T"
   ]
  },
  {
   "cell_type": "markdown",
   "id": "5e49ef0d",
   "metadata": {
    "papermill": {
     "duration": 0.035087,
     "end_time": "2023-10-22T15:51:23.402336",
     "exception": false,
     "start_time": "2023-10-22T15:51:23.367249",
     "status": "completed"
    },
    "tags": []
   },
   "source": [
    "**Outlier Detection & Cleaning**"
   ]
  },
  {
   "cell_type": "code",
   "execution_count": 47,
   "id": "85c39f57",
   "metadata": {
    "execution": {
     "iopub.execute_input": "2023-10-22T15:51:23.477842Z",
     "iopub.status.busy": "2023-10-22T15:51:23.476157Z",
     "iopub.status.idle": "2023-10-22T15:51:23.484847Z",
     "shell.execute_reply": "2023-10-22T15:51:23.483510Z"
    },
    "papermill": {
     "duration": 0.050569,
     "end_time": "2023-10-22T15:51:23.487696",
     "exception": false,
     "start_time": "2023-10-22T15:51:23.437127",
     "status": "completed"
    },
    "tags": []
   },
   "outputs": [],
   "source": [
    "def outlier_thresholds(dataframe, variable):\n",
    "    \n",
    "    quartile1 = dataframe[variable].quantile(0.25)\n",
    "    quartile3 = dataframe[variable].quantile(0.75)\n",
    "    interquantile_range = quartile3 - quartile1\n",
    "    up_limit = quartile3 + 1.5 * interquantile_range\n",
    "    low_limit = quartile1 - 1.5 * interquantile_range\n",
    "    \n",
    "    return low_limit, up_limit"
   ]
  },
  {
   "cell_type": "code",
   "execution_count": 48,
   "id": "8daeb220",
   "metadata": {
    "execution": {
     "iopub.execute_input": "2023-10-22T15:51:23.562025Z",
     "iopub.status.busy": "2023-10-22T15:51:23.561161Z",
     "iopub.status.idle": "2023-10-22T15:51:23.567508Z",
     "shell.execute_reply": "2023-10-22T15:51:23.566215Z"
    },
    "papermill": {
     "duration": 0.0463,
     "end_time": "2023-10-22T15:51:23.570319",
     "exception": false,
     "start_time": "2023-10-22T15:51:23.524019",
     "status": "completed"
    },
    "tags": []
   },
   "outputs": [],
   "source": [
    "def replace_with_thresholds(dataframe, variable):\n",
    "    low_limit, up_limit = outlier_thresholds(dataframe, variable)\n",
    "    dataframe.loc[(dataframe[variable] < low_limit), variable] = low_limit \n",
    "    dataframe.loc[(dataframe[variable] > up_limit), variable] = up_limit"
   ]
  },
  {
   "cell_type": "code",
   "execution_count": 49,
   "id": "f41add9c",
   "metadata": {
    "execution": {
     "iopub.execute_input": "2023-10-22T15:51:23.650361Z",
     "iopub.status.busy": "2023-10-22T15:51:23.649154Z",
     "iopub.status.idle": "2023-10-22T15:51:23.669526Z",
     "shell.execute_reply": "2023-10-22T15:51:23.667959Z"
    },
    "papermill": {
     "duration": 0.067652,
     "end_time": "2023-10-22T15:51:23.673395",
     "exception": false,
     "start_time": "2023-10-22T15:51:23.605743",
     "status": "completed"
    },
    "tags": []
   },
   "outputs": [],
   "source": [
    "replace_with_thresholds(cltv,\"Recency_weekly\")\n",
    "replace_with_thresholds(cltv,\"T_weekly\")\n",
    "replace_with_thresholds(cltv,\"frequency\")\n",
    "replace_with_thresholds(cltv,\"monetary\")"
   ]
  },
  {
   "cell_type": "markdown",
   "id": "f45e8b94",
   "metadata": {
    "papermill": {
     "duration": 0.034956,
     "end_time": "2023-10-22T15:51:23.753731",
     "exception": false,
     "start_time": "2023-10-22T15:51:23.718775",
     "status": "completed"
    },
    "tags": []
   },
   "source": [
    "---"
   ]
  },
  {
   "cell_type": "code",
   "execution_count": 50,
   "id": "de35dbd4",
   "metadata": {
    "execution": {
     "iopub.execute_input": "2023-10-22T15:51:23.827749Z",
     "iopub.status.busy": "2023-10-22T15:51:23.826230Z",
     "iopub.status.idle": "2023-10-22T15:51:23.851503Z",
     "shell.execute_reply": "2023-10-22T15:51:23.850568Z"
    },
    "papermill": {
     "duration": 0.065236,
     "end_time": "2023-10-22T15:51:23.854090",
     "exception": false,
     "start_time": "2023-10-22T15:51:23.788854",
     "status": "completed"
    },
    "tags": []
   },
   "outputs": [
    {
     "data": {
      "text/html": [
       "<div>\n",
       "<style scoped>\n",
       "    .dataframe tbody tr th:only-of-type {\n",
       "        vertical-align: middle;\n",
       "    }\n",
       "\n",
       "    .dataframe tbody tr th {\n",
       "        vertical-align: top;\n",
       "    }\n",
       "\n",
       "    .dataframe thead th {\n",
       "        text-align: right;\n",
       "    }\n",
       "</style>\n",
       "<table border=\"1\" class=\"dataframe\">\n",
       "  <thead>\n",
       "    <tr style=\"text-align: right;\">\n",
       "      <th></th>\n",
       "      <th>count</th>\n",
       "      <th>mean</th>\n",
       "      <th>std</th>\n",
       "      <th>min</th>\n",
       "      <th>25%</th>\n",
       "      <th>50%</th>\n",
       "      <th>75%</th>\n",
       "      <th>max</th>\n",
       "    </tr>\n",
       "  </thead>\n",
       "  <tbody>\n",
       "    <tr>\n",
       "      <th>Recency_weekly</th>\n",
       "      <td>2240.0000</td>\n",
       "      <td>56.9371</td>\n",
       "      <td>29.0635</td>\n",
       "      <td>0.0000</td>\n",
       "      <td>32.0000</td>\n",
       "      <td>57.0000</td>\n",
       "      <td>82.0000</td>\n",
       "      <td>113.0000</td>\n",
       "    </tr>\n",
       "    <tr>\n",
       "      <th>T_weekly</th>\n",
       "      <td>2240.0000</td>\n",
       "      <td>63.9442</td>\n",
       "      <td>28.8969</td>\n",
       "      <td>13.0000</td>\n",
       "      <td>39.0000</td>\n",
       "      <td>64.0000</td>\n",
       "      <td>89.0000</td>\n",
       "      <td>113.0000</td>\n",
       "    </tr>\n",
       "    <tr>\n",
       "      <th>frequency</th>\n",
       "      <td>2240.0000</td>\n",
       "      <td>14.8594</td>\n",
       "      <td>7.6677</td>\n",
       "      <td>0.0000</td>\n",
       "      <td>8.0000</td>\n",
       "      <td>15.0000</td>\n",
       "      <td>21.0000</td>\n",
       "      <td>40.5000</td>\n",
       "    </tr>\n",
       "    <tr>\n",
       "      <th>monetary</th>\n",
       "      <td>2240.0000</td>\n",
       "      <td>32.2112</td>\n",
       "      <td>27.1221</td>\n",
       "      <td>1.0000</td>\n",
       "      <td>10.0000</td>\n",
       "      <td>23.0000</td>\n",
       "      <td>46.0000</td>\n",
       "      <td>100.0000</td>\n",
       "    </tr>\n",
       "  </tbody>\n",
       "</table>\n",
       "</div>"
      ],
      "text/plain": [
       "                   count    mean     std     min     25%     50%     75%  \\\n",
       "Recency_weekly 2240.0000 56.9371 29.0635  0.0000 32.0000 57.0000 82.0000   \n",
       "T_weekly       2240.0000 63.9442 28.8969 13.0000 39.0000 64.0000 89.0000   \n",
       "frequency      2240.0000 14.8594  7.6677  0.0000  8.0000 15.0000 21.0000   \n",
       "monetary       2240.0000 32.2112 27.1221  1.0000 10.0000 23.0000 46.0000   \n",
       "\n",
       "                    max  \n",
       "Recency_weekly 113.0000  \n",
       "T_weekly       113.0000  \n",
       "frequency       40.5000  \n",
       "monetary       100.0000  "
      ]
     },
     "execution_count": 50,
     "metadata": {},
     "output_type": "execute_result"
    }
   ],
   "source": [
    "cltv.describe().T"
   ]
  },
  {
   "cell_type": "code",
   "execution_count": 51,
   "id": "a24795f8",
   "metadata": {
    "execution": {
     "iopub.execute_input": "2023-10-22T15:51:23.945170Z",
     "iopub.status.busy": "2023-10-22T15:51:23.943852Z",
     "iopub.status.idle": "2023-10-22T15:51:23.951720Z",
     "shell.execute_reply": "2023-10-22T15:51:23.950600Z"
    },
    "papermill": {
     "duration": 0.064552,
     "end_time": "2023-10-22T15:51:23.954353",
     "exception": false,
     "start_time": "2023-10-22T15:51:23.889801",
     "status": "completed"
    },
    "tags": []
   },
   "outputs": [],
   "source": [
    "cltv = cltv[cltv[\"frequency\"] > 1]"
   ]
  },
  {
   "cell_type": "code",
   "execution_count": 52,
   "id": "83fdf696",
   "metadata": {
    "execution": {
     "iopub.execute_input": "2023-10-22T15:51:24.028210Z",
     "iopub.status.busy": "2023-10-22T15:51:24.027750Z",
     "iopub.status.idle": "2023-10-22T15:51:24.033488Z",
     "shell.execute_reply": "2023-10-22T15:51:24.032250Z"
    },
    "papermill": {
     "duration": 0.04586,
     "end_time": "2023-10-22T15:51:24.035961",
     "exception": false,
     "start_time": "2023-10-22T15:51:23.990101",
     "status": "completed"
    },
    "tags": []
   },
   "outputs": [],
   "source": [
    "cltv[\"frequency\"] = round(cltv[\"frequency\"])"
   ]
  },
  {
   "cell_type": "code",
   "execution_count": 53,
   "id": "b690993f",
   "metadata": {
    "execution": {
     "iopub.execute_input": "2023-10-22T15:51:24.111483Z",
     "iopub.status.busy": "2023-10-22T15:51:24.110574Z",
     "iopub.status.idle": "2023-10-22T15:51:24.135241Z",
     "shell.execute_reply": "2023-10-22T15:51:24.134323Z"
    },
    "papermill": {
     "duration": 0.065366,
     "end_time": "2023-10-22T15:51:24.137534",
     "exception": false,
     "start_time": "2023-10-22T15:51:24.072168",
     "status": "completed"
    },
    "tags": []
   },
   "outputs": [
    {
     "data": {
      "text/html": [
       "<div>\n",
       "<style scoped>\n",
       "    .dataframe tbody tr th:only-of-type {\n",
       "        vertical-align: middle;\n",
       "    }\n",
       "\n",
       "    .dataframe tbody tr th {\n",
       "        vertical-align: top;\n",
       "    }\n",
       "\n",
       "    .dataframe thead th {\n",
       "        text-align: right;\n",
       "    }\n",
       "</style>\n",
       "<table border=\"1\" class=\"dataframe\">\n",
       "  <thead>\n",
       "    <tr style=\"text-align: right;\">\n",
       "      <th></th>\n",
       "      <th>count</th>\n",
       "      <th>mean</th>\n",
       "      <th>std</th>\n",
       "      <th>min</th>\n",
       "      <th>25%</th>\n",
       "      <th>50%</th>\n",
       "      <th>75%</th>\n",
       "      <th>max</th>\n",
       "    </tr>\n",
       "  </thead>\n",
       "  <tbody>\n",
       "    <tr>\n",
       "      <th>Recency_weekly</th>\n",
       "      <td>2232.0000</td>\n",
       "      <td>56.9350</td>\n",
       "      <td>29.0651</td>\n",
       "      <td>0.0000</td>\n",
       "      <td>32.0000</td>\n",
       "      <td>57.0000</td>\n",
       "      <td>82.0000</td>\n",
       "      <td>113.0000</td>\n",
       "    </tr>\n",
       "    <tr>\n",
       "      <th>T_weekly</th>\n",
       "      <td>2232.0000</td>\n",
       "      <td>63.9413</td>\n",
       "      <td>28.8958</td>\n",
       "      <td>13.0000</td>\n",
       "      <td>39.0000</td>\n",
       "      <td>64.0000</td>\n",
       "      <td>89.0000</td>\n",
       "      <td>113.0000</td>\n",
       "    </tr>\n",
       "    <tr>\n",
       "      <th>frequency</th>\n",
       "      <td>2232.0000</td>\n",
       "      <td>14.9104</td>\n",
       "      <td>7.6314</td>\n",
       "      <td>2.0000</td>\n",
       "      <td>8.0000</td>\n",
       "      <td>15.0000</td>\n",
       "      <td>21.0000</td>\n",
       "      <td>40.0000</td>\n",
       "    </tr>\n",
       "    <tr>\n",
       "      <th>monetary</th>\n",
       "      <td>2232.0000</td>\n",
       "      <td>31.9987</td>\n",
       "      <td>26.9032</td>\n",
       "      <td>1.0000</td>\n",
       "      <td>10.0000</td>\n",
       "      <td>23.0000</td>\n",
       "      <td>45.0000</td>\n",
       "      <td>100.0000</td>\n",
       "    </tr>\n",
       "  </tbody>\n",
       "</table>\n",
       "</div>"
      ],
      "text/plain": [
       "                   count    mean     std     min     25%     50%     75%  \\\n",
       "Recency_weekly 2232.0000 56.9350 29.0651  0.0000 32.0000 57.0000 82.0000   \n",
       "T_weekly       2232.0000 63.9413 28.8958 13.0000 39.0000 64.0000 89.0000   \n",
       "frequency      2232.0000 14.9104  7.6314  2.0000  8.0000 15.0000 21.0000   \n",
       "monetary       2232.0000 31.9987 26.9032  1.0000 10.0000 23.0000 45.0000   \n",
       "\n",
       "                    max  \n",
       "Recency_weekly 113.0000  \n",
       "T_weekly       113.0000  \n",
       "frequency       40.0000  \n",
       "monetary       100.0000  "
      ]
     },
     "execution_count": 53,
     "metadata": {},
     "output_type": "execute_result"
    }
   ],
   "source": [
    "cltv.describe().T"
   ]
  },
  {
   "cell_type": "markdown",
   "id": "b55515bb",
   "metadata": {
    "papermill": {
     "duration": 0.035596,
     "end_time": "2023-10-22T15:51:24.209353",
     "exception": false,
     "start_time": "2023-10-22T15:51:24.173757",
     "status": "completed"
    },
    "tags": []
   },
   "source": [
    "**Visualization**"
   ]
  },
  {
   "cell_type": "code",
   "execution_count": 54,
   "id": "9024d1a3",
   "metadata": {
    "execution": {
     "iopub.execute_input": "2023-10-22T15:51:24.285603Z",
     "iopub.status.busy": "2023-10-22T15:51:24.284689Z",
     "iopub.status.idle": "2023-10-22T15:51:24.705401Z",
     "shell.execute_reply": "2023-10-22T15:51:24.704521Z"
    },
    "papermill": {
     "duration": 0.462285,
     "end_time": "2023-10-22T15:51:24.707992",
     "exception": false,
     "start_time": "2023-10-22T15:51:24.245707",
     "status": "completed"
    },
    "tags": []
   },
   "outputs": [
    {
     "data": {
      "image/png": "[encoded data removed]",
      "text/plain": [
       "<Figure size 1000x1000 with 2 Axes>"
      ]
     },
     "metadata": {},
     "output_type": "display_data"
    }
   ],
   "source": [
    "plt.figure(figsize=(10,10))\n",
    "plt.subplot(2,2,1)\n",
    "sns.boxplot(y=\"monetary\", data=cltv,palette=\"pastel\");\n",
    "plt.subplot(2,2,2)\n",
    "sns.boxplot(y=\"frequency\", data=cltv,palette=\"pastel\");"
   ]
  },
  {
   "cell_type": "markdown",
   "id": "178acb60",
   "metadata": {
    "papermill": {
     "duration": 0.036388,
     "end_time": "2023-10-22T15:51:24.781091",
     "exception": false,
     "start_time": "2023-10-22T15:51:24.744703",
     "status": "completed"
    },
    "tags": []
   },
   "source": [
    "**BG-NBD Modelling**"
   ]
  },
  {
   "cell_type": "code",
   "execution_count": 55,
   "id": "26172987",
   "metadata": {
    "execution": {
     "iopub.execute_input": "2023-10-22T15:51:24.856261Z",
     "iopub.status.busy": "2023-10-22T15:51:24.855793Z",
     "iopub.status.idle": "2023-10-22T15:51:24.861807Z",
     "shell.execute_reply": "2023-10-22T15:51:24.860541Z"
    },
    "papermill": {
     "duration": 0.046807,
     "end_time": "2023-10-22T15:51:24.864478",
     "exception": false,
     "start_time": "2023-10-22T15:51:24.817671",
     "status": "completed"
    },
    "tags": []
   },
   "outputs": [],
   "source": [
    "bgf = BetaGeoFitter(penalizer_coef=0.001)"
   ]
  },
  {
   "cell_type": "code",
   "execution_count": 56,
   "id": "8f17129a",
   "metadata": {
    "execution": {
     "iopub.execute_input": "2023-10-22T15:51:24.940330Z",
     "iopub.status.busy": "2023-10-22T15:51:24.939793Z",
     "iopub.status.idle": "2023-10-22T15:51:25.124632Z",
     "shell.execute_reply": "2023-10-22T15:51:25.122949Z"
    },
    "papermill": {
     "duration": 0.227749,
     "end_time": "2023-10-22T15:51:25.129085",
     "exception": false,
     "start_time": "2023-10-22T15:51:24.901336",
     "status": "completed"
    },
    "tags": []
   },
   "outputs": [
    {
     "data": {
      "text/plain": [
       "<lifetimes.BetaGeoFitter: fitted with 2232 subjects, a: 0.08, alpha: 5.07, b: 4.38, r: 1.67>"
      ]
     },
     "execution_count": 56,
     "metadata": {},
     "output_type": "execute_result"
    }
   ],
   "source": [
    "bgf.fit(cltv['frequency'],\n",
    "        cltv['Recency_weekly'],\n",
    "        cltv['T_weekly'])"
   ]
  },
  {
   "cell_type": "markdown",
   "id": "60d1946f",
   "metadata": {
    "papermill": {
     "duration": 0.051412,
     "end_time": "2023-10-22T15:51:25.258749",
     "exception": false,
     "start_time": "2023-10-22T15:51:25.207337",
     "status": "completed"
    },
    "tags": []
   },
   "source": [
    "**BG-NBD Prediction**"
   ]
  },
  {
   "cell_type": "code",
   "execution_count": 57,
   "id": "caa2a260",
   "metadata": {
    "execution": {
     "iopub.execute_input": "2023-10-22T15:51:25.334740Z",
     "iopub.status.busy": "2023-10-22T15:51:25.334294Z",
     "iopub.status.idle": "2023-10-22T15:51:25.351194Z",
     "shell.execute_reply": "2023-10-22T15:51:25.349852Z"
    },
    "papermill": {
     "duration": 0.05804,
     "end_time": "2023-10-22T15:51:25.354110",
     "exception": false,
     "start_time": "2023-10-22T15:51:25.296070",
     "status": "completed"
    },
    "tags": []
   },
   "outputs": [],
   "source": [
    "cltv[\"expected_purc_3_month\"] = bgf.predict(4 * 3,cltv['frequency'],\n",
    "                                            cltv['Recency_weekly'],\n",
    "                                            cltv['T_weekly']).sum()"
   ]
  },
  {
   "cell_type": "code",
   "execution_count": 58,
   "id": "e12c1136",
   "metadata": {
    "execution": {
     "iopub.execute_input": "2023-10-22T15:51:25.429983Z",
     "iopub.status.busy": "2023-10-22T15:51:25.429487Z",
     "iopub.status.idle": "2023-10-22T15:51:26.797038Z",
     "shell.execute_reply": "2023-10-22T15:51:26.795246Z"
    },
    "papermill": {
     "duration": 1.409423,
     "end_time": "2023-10-22T15:51:26.800728",
     "exception": false,
     "start_time": "2023-10-22T15:51:25.391305",
     "status": "completed"
    },
    "tags": []
   },
   "outputs": [
    {
     "data": {
      "image/png": "[encoded data removed]",
      "text/plain": [
       "<Figure size 640x480 with 1 Axes>"
      ]
     },
     "metadata": {},
     "output_type": "display_data"
    }
   ],
   "source": [
    "plot_period_transactions(bgf)\n",
    "plt.show()"
   ]
  },
  {
   "cell_type": "markdown",
   "id": "929b7d06",
   "metadata": {
    "papermill": {
     "duration": 0.037103,
     "end_time": "2023-10-22T15:51:26.879114",
     "exception": false,
     "start_time": "2023-10-22T15:51:26.842011",
     "status": "completed"
    },
    "tags": []
   },
   "source": [
    "**GAMMA-GAMMA Modelling**"
   ]
  },
  {
   "cell_type": "code",
   "execution_count": 59,
   "id": "30f2844a",
   "metadata": {
    "execution": {
     "iopub.execute_input": "2023-10-22T15:51:26.958571Z",
     "iopub.status.busy": "2023-10-22T15:51:26.957837Z",
     "iopub.status.idle": "2023-10-22T15:51:26.962912Z",
     "shell.execute_reply": "2023-10-22T15:51:26.961874Z"
    },
    "papermill": {
     "duration": 0.047606,
     "end_time": "2023-10-22T15:51:26.965562",
     "exception": false,
     "start_time": "2023-10-22T15:51:26.917956",
     "status": "completed"
    },
    "tags": []
   },
   "outputs": [],
   "source": [
    "ggf = GammaGammaFitter(penalizer_coef=0.01)"
   ]
  },
  {
   "cell_type": "code",
   "execution_count": 60,
   "id": "20e87f2d",
   "metadata": {
    "execution": {
     "iopub.execute_input": "2023-10-22T15:51:27.044739Z",
     "iopub.status.busy": "2023-10-22T15:51:27.043949Z",
     "iopub.status.idle": "2023-10-22T15:51:27.120092Z",
     "shell.execute_reply": "2023-10-22T15:51:27.118822Z"
    },
    "papermill": {
     "duration": 0.11866,
     "end_time": "2023-10-22T15:51:27.123218",
     "exception": false,
     "start_time": "2023-10-22T15:51:27.004558",
     "status": "completed"
    },
    "tags": []
   },
   "outputs": [
    {
     "data": {
      "text/plain": [
       "<lifetimes.GammaGammaFitter: fitted with 2232 subjects, p: 3.09, q: 0.85, v: 3.06>"
      ]
     },
     "execution_count": 60,
     "metadata": {},
     "output_type": "execute_result"
    }
   ],
   "source": [
    "ggf.fit(cltv['frequency'], cltv['monetary'])"
   ]
  },
  {
   "cell_type": "code",
   "execution_count": 61,
   "id": "ddca1ac4",
   "metadata": {
    "execution": {
     "iopub.execute_input": "2023-10-22T15:51:27.201299Z",
     "iopub.status.busy": "2023-10-22T15:51:27.200829Z",
     "iopub.status.idle": "2023-10-22T15:51:27.210232Z",
     "shell.execute_reply": "2023-10-22T15:51:27.209013Z"
    },
    "papermill": {
     "duration": 0.052624,
     "end_time": "2023-10-22T15:51:27.213582",
     "exception": false,
     "start_time": "2023-10-22T15:51:27.160958",
     "status": "completed"
    },
    "tags": []
   },
   "outputs": [],
   "source": [
    "cltv[\"expected_average_profit\"] = ggf.conditional_expected_average_profit(cltv['frequency'],\n",
    "                                                                          cltv['monetary'])"
   ]
  },
  {
   "cell_type": "code",
   "execution_count": 62,
   "id": "0962f07e",
   "metadata": {
    "execution": {
     "iopub.execute_input": "2023-10-22T15:51:27.293975Z",
     "iopub.status.busy": "2023-10-22T15:51:27.292960Z",
     "iopub.status.idle": "2023-10-22T15:51:27.309909Z",
     "shell.execute_reply": "2023-10-22T15:51:27.308604Z"
    },
    "papermill": {
     "duration": 0.059378,
     "end_time": "2023-10-22T15:51:27.312650",
     "exception": false,
     "start_time": "2023-10-22T15:51:27.253272",
     "status": "completed"
    },
    "tags": []
   },
   "outputs": [
    {
     "data": {
      "text/html": [
       "<div>\n",
       "<style scoped>\n",
       "    .dataframe tbody tr th:only-of-type {\n",
       "        vertical-align: middle;\n",
       "    }\n",
       "\n",
       "    .dataframe tbody tr th {\n",
       "        vertical-align: top;\n",
       "    }\n",
       "\n",
       "    .dataframe thead th {\n",
       "        text-align: right;\n",
       "    }\n",
       "</style>\n",
       "<table border=\"1\" class=\"dataframe\">\n",
       "  <thead>\n",
       "    <tr style=\"text-align: right;\">\n",
       "      <th></th>\n",
       "      <th>Recency_weekly</th>\n",
       "      <th>T_weekly</th>\n",
       "      <th>frequency</th>\n",
       "      <th>monetary</th>\n",
       "      <th>expected_purc_3_month</th>\n",
       "      <th>expected_average_profit</th>\n",
       "    </tr>\n",
       "    <tr>\n",
       "      <th>ID</th>\n",
       "      <th></th>\n",
       "      <th></th>\n",
       "      <th></th>\n",
       "      <th></th>\n",
       "      <th></th>\n",
       "      <th></th>\n",
       "    </tr>\n",
       "  </thead>\n",
       "  <tbody>\n",
       "    <tr>\n",
       "      <th>4246</th>\n",
       "      <td>42</td>\n",
       "      <td>42</td>\n",
       "      <td>2.0000</td>\n",
       "      <td>100.0000</td>\n",
       "      <td>5997.9226</td>\n",
       "      <td>104.1117</td>\n",
       "    </tr>\n",
       "    <tr>\n",
       "      <th>3422</th>\n",
       "      <td>86</td>\n",
       "      <td>96</td>\n",
       "      <td>10.0000</td>\n",
       "      <td>100.0000</td>\n",
       "      <td>5997.9226</td>\n",
       "      <td>100.8059</td>\n",
       "    </tr>\n",
       "    <tr>\n",
       "      <th>10479</th>\n",
       "      <td>86</td>\n",
       "      <td>95</td>\n",
       "      <td>11.0000</td>\n",
       "      <td>100.0000</td>\n",
       "      <td>5997.9226</td>\n",
       "      <td>100.7323</td>\n",
       "    </tr>\n",
       "    <tr>\n",
       "      <th>7959</th>\n",
       "      <td>15</td>\n",
       "      <td>18</td>\n",
       "      <td>11.0000</td>\n",
       "      <td>100.0000</td>\n",
       "      <td>5997.9226</td>\n",
       "      <td>100.7323</td>\n",
       "    </tr>\n",
       "    <tr>\n",
       "      <th>10513</th>\n",
       "      <td>79</td>\n",
       "      <td>88</td>\n",
       "      <td>12.0000</td>\n",
       "      <td>100.0000</td>\n",
       "      <td>5997.9226</td>\n",
       "      <td>100.6710</td>\n",
       "    </tr>\n",
       "    <tr>\n",
       "      <th>7962</th>\n",
       "      <td>51</td>\n",
       "      <td>51</td>\n",
       "      <td>12.0000</td>\n",
       "      <td>100.0000</td>\n",
       "      <td>5997.9226</td>\n",
       "      <td>100.6710</td>\n",
       "    </tr>\n",
       "    <tr>\n",
       "      <th>9606</th>\n",
       "      <td>48</td>\n",
       "      <td>57</td>\n",
       "      <td>13.0000</td>\n",
       "      <td>100.0000</td>\n",
       "      <td>5997.9226</td>\n",
       "      <td>100.6192</td>\n",
       "    </tr>\n",
       "    <tr>\n",
       "      <th>2532</th>\n",
       "      <td>17</td>\n",
       "      <td>31</td>\n",
       "      <td>13.0000</td>\n",
       "      <td>100.0000</td>\n",
       "      <td>5997.9226</td>\n",
       "      <td>100.6192</td>\n",
       "    </tr>\n",
       "    <tr>\n",
       "      <th>1173</th>\n",
       "      <td>71</td>\n",
       "      <td>81</td>\n",
       "      <td>13.0000</td>\n",
       "      <td>100.0000</td>\n",
       "      <td>5997.9226</td>\n",
       "      <td>100.6192</td>\n",
       "    </tr>\n",
       "    <tr>\n",
       "      <th>9595</th>\n",
       "      <td>90</td>\n",
       "      <td>90</td>\n",
       "      <td>14.0000</td>\n",
       "      <td>100.0000</td>\n",
       "      <td>5997.9226</td>\n",
       "      <td>100.5748</td>\n",
       "    </tr>\n",
       "  </tbody>\n",
       "</table>\n",
       "</div>"
      ],
      "text/plain": [
       "       Recency_weekly  T_weekly  frequency  monetary  expected_purc_3_month  \\\n",
       "ID                                                                            \n",
       "4246               42        42     2.0000  100.0000              5997.9226   \n",
       "3422               86        96    10.0000  100.0000              5997.9226   \n",
       "10479              86        95    11.0000  100.0000              5997.9226   \n",
       "7959               15        18    11.0000  100.0000              5997.9226   \n",
       "10513              79        88    12.0000  100.0000              5997.9226   \n",
       "7962               51        51    12.0000  100.0000              5997.9226   \n",
       "9606               48        57    13.0000  100.0000              5997.9226   \n",
       "2532               17        31    13.0000  100.0000              5997.9226   \n",
       "1173               71        81    13.0000  100.0000              5997.9226   \n",
       "9595               90        90    14.0000  100.0000              5997.9226   \n",
       "\n",
       "       expected_average_profit  \n",
       "ID                              \n",
       "4246                  104.1117  \n",
       "3422                  100.8059  \n",
       "10479                 100.7323  \n",
       "7959                  100.7323  \n",
       "10513                 100.6710  \n",
       "7962                  100.6710  \n",
       "9606                  100.6192  \n",
       "2532                  100.6192  \n",
       "1173                  100.6192  \n",
       "9595                  100.5748  "
      ]
     },
     "execution_count": 62,
     "metadata": {},
     "output_type": "execute_result"
    }
   ],
   "source": [
    "cltv.sort_values(\"expected_average_profit\", ascending=False).head(10)"
   ]
  },
  {
   "cell_type": "markdown",
   "id": "5840f332",
   "metadata": {
    "papermill": {
     "duration": 0.03891,
     "end_time": "2023-10-22T15:51:27.390693",
     "exception": false,
     "start_time": "2023-10-22T15:51:27.351783",
     "status": "completed"
    },
    "tags": []
   },
   "source": [
    "**BG/NBD & GG Modeling**"
   ]
  },
  {
   "cell_type": "code",
   "execution_count": 63,
   "id": "9a5011f1",
   "metadata": {
    "execution": {
     "iopub.execute_input": "2023-10-22T15:51:27.471549Z",
     "iopub.status.busy": "2023-10-22T15:51:27.470697Z",
     "iopub.status.idle": "2023-10-22T15:51:27.533947Z",
     "shell.execute_reply": "2023-10-22T15:51:27.532906Z"
    },
    "papermill": {
     "duration": 0.107623,
     "end_time": "2023-10-22T15:51:27.537172",
     "exception": false,
     "start_time": "2023-10-22T15:51:27.429549",
     "status": "completed"
    },
    "tags": []
   },
   "outputs": [],
   "source": [
    "cltv = ggf.customer_lifetime_value(bgf,\n",
    "                                   cltv['frequency'],\n",
    "                                   cltv['Recency_weekly'],\n",
    "                                   cltv['T_weekly'],\n",
    "                                   cltv['monetary'],\n",
    "                                   time=3,  # 3 aylık\n",
    "                                   freq=\"W\",  # T'nin frekans bilgisi.\n",
    "                                   discount_rate=0.01)"
   ]
  },
  {
   "cell_type": "code",
   "execution_count": 64,
   "id": "b8404316",
   "metadata": {
    "execution": {
     "iopub.execute_input": "2023-10-22T15:51:27.616554Z",
     "iopub.status.busy": "2023-10-22T15:51:27.615765Z",
     "iopub.status.idle": "2023-10-22T15:51:27.624367Z",
     "shell.execute_reply": "2023-10-22T15:51:27.623442Z"
    },
    "papermill": {
     "duration": 0.051088,
     "end_time": "2023-10-22T15:51:27.626737",
     "exception": false,
     "start_time": "2023-10-22T15:51:27.575649",
     "status": "completed"
    },
    "tags": []
   },
   "outputs": [
    {
     "data": {
      "text/plain": [
       "ID\n",
       "5524   191.9449\n",
       "2174    12.1225\n",
       "4141   167.3083\n",
       "6182    23.4833\n",
       "5324    13.3999\n",
       "Name: clv, dtype: float64"
      ]
     },
     "execution_count": 64,
     "metadata": {},
     "output_type": "execute_result"
    }
   ],
   "source": [
    "cltv.head()"
   ]
  },
  {
   "cell_type": "code",
   "execution_count": 65,
   "id": "7053badd",
   "metadata": {
    "execution": {
     "iopub.execute_input": "2023-10-22T15:51:27.708750Z",
     "iopub.status.busy": "2023-10-22T15:51:27.708231Z",
     "iopub.status.idle": "2023-10-22T15:51:27.714701Z",
     "shell.execute_reply": "2023-10-22T15:51:27.713639Z"
    },
    "papermill": {
     "duration": 0.049247,
     "end_time": "2023-10-22T15:51:27.717053",
     "exception": false,
     "start_time": "2023-10-22T15:51:27.667806",
     "status": "completed"
    },
    "tags": []
   },
   "outputs": [],
   "source": [
    "cltv = cltv.reset_index()"
   ]
  },
  {
   "cell_type": "code",
   "execution_count": 66,
   "id": "2b02d538",
   "metadata": {
    "execution": {
     "iopub.execute_input": "2023-10-22T15:51:27.796765Z",
     "iopub.status.busy": "2023-10-22T15:51:27.796260Z",
     "iopub.status.idle": "2023-10-22T15:51:27.808166Z",
     "shell.execute_reply": "2023-10-22T15:51:27.807180Z"
    },
    "papermill": {
     "duration": 0.054354,
     "end_time": "2023-10-22T15:51:27.810738",
     "exception": false,
     "start_time": "2023-10-22T15:51:27.756384",
     "status": "completed"
    },
    "tags": []
   },
   "outputs": [
    {
     "data": {
      "text/html": [
       "<div>\n",
       "<style scoped>\n",
       "    .dataframe tbody tr th:only-of-type {\n",
       "        vertical-align: middle;\n",
       "    }\n",
       "\n",
       "    .dataframe tbody tr th {\n",
       "        vertical-align: top;\n",
       "    }\n",
       "\n",
       "    .dataframe thead th {\n",
       "        text-align: right;\n",
       "    }\n",
       "</style>\n",
       "<table border=\"1\" class=\"dataframe\">\n",
       "  <thead>\n",
       "    <tr style=\"text-align: right;\">\n",
       "      <th></th>\n",
       "      <th>ID</th>\n",
       "      <th>clv</th>\n",
       "    </tr>\n",
       "  </thead>\n",
       "  <tbody>\n",
       "    <tr>\n",
       "      <th>0</th>\n",
       "      <td>5524</td>\n",
       "      <td>191.9449</td>\n",
       "    </tr>\n",
       "    <tr>\n",
       "      <th>1</th>\n",
       "      <td>2174</td>\n",
       "      <td>12.1225</td>\n",
       "    </tr>\n",
       "    <tr>\n",
       "      <th>2</th>\n",
       "      <td>4141</td>\n",
       "      <td>167.3083</td>\n",
       "    </tr>\n",
       "    <tr>\n",
       "      <th>3</th>\n",
       "      <td>6182</td>\n",
       "      <td>23.4833</td>\n",
       "    </tr>\n",
       "    <tr>\n",
       "      <th>4</th>\n",
       "      <td>5324</td>\n",
       "      <td>13.3999</td>\n",
       "    </tr>\n",
       "  </tbody>\n",
       "</table>\n",
       "</div>"
      ],
      "text/plain": [
       "     ID      clv\n",
       "0  5524 191.9449\n",
       "1  2174  12.1225\n",
       "2  4141 167.3083\n",
       "3  6182  23.4833\n",
       "4  5324  13.3999"
      ]
     },
     "execution_count": 66,
     "metadata": {},
     "output_type": "execute_result"
    }
   ],
   "source": [
    "cltv.head()"
   ]
  },
  {
   "cell_type": "markdown",
   "id": "1c344ce9",
   "metadata": {
    "papermill": {
     "duration": 0.038284,
     "end_time": "2023-10-22T15:51:27.888240",
     "exception": false,
     "start_time": "2023-10-22T15:51:27.849956",
     "status": "completed"
    },
    "tags": []
   },
   "source": [
    "**Segmentation**"
   ]
  },
  {
   "cell_type": "code",
   "execution_count": 67,
   "id": "54f65b1d",
   "metadata": {
    "execution": {
     "iopub.execute_input": "2023-10-22T15:51:27.967940Z",
     "iopub.status.busy": "2023-10-22T15:51:27.967193Z",
     "iopub.status.idle": "2023-10-22T15:51:27.975669Z",
     "shell.execute_reply": "2023-10-22T15:51:27.974643Z"
    },
    "papermill": {
     "duration": 0.052025,
     "end_time": "2023-10-22T15:51:27.978506",
     "exception": false,
     "start_time": "2023-10-22T15:51:27.926481",
     "status": "completed"
    },
    "tags": []
   },
   "outputs": [],
   "source": [
    "cltv[\"segment\"] = pd.qcut(cltv[\"clv\"], 4, labels=[\"D\", \"C\", \"B\", \"A\"])"
   ]
  },
  {
   "cell_type": "code",
   "execution_count": 68,
   "id": "fb82af3a",
   "metadata": {
    "execution": {
     "iopub.execute_input": "2023-10-22T15:51:28.056269Z",
     "iopub.status.busy": "2023-10-22T15:51:28.055813Z",
     "iopub.status.idle": "2023-10-22T15:51:28.074504Z",
     "shell.execute_reply": "2023-10-22T15:51:28.073558Z"
    },
    "papermill": {
     "duration": 0.060223,
     "end_time": "2023-10-22T15:51:28.076761",
     "exception": false,
     "start_time": "2023-10-22T15:51:28.016538",
     "status": "completed"
    },
    "tags": []
   },
   "outputs": [
    {
     "data": {
      "text/html": [
       "<div>\n",
       "<style scoped>\n",
       "    .dataframe tbody tr th:only-of-type {\n",
       "        vertical-align: middle;\n",
       "    }\n",
       "\n",
       "    .dataframe tbody tr th {\n",
       "        vertical-align: top;\n",
       "    }\n",
       "\n",
       "    .dataframe thead tr th {\n",
       "        text-align: left;\n",
       "    }\n",
       "\n",
       "    .dataframe thead tr:last-of-type th {\n",
       "        text-align: right;\n",
       "    }\n",
       "</style>\n",
       "<table border=\"1\" class=\"dataframe\">\n",
       "  <thead>\n",
       "    <tr>\n",
       "      <th></th>\n",
       "      <th colspan=\"3\" halign=\"left\">clv</th>\n",
       "    </tr>\n",
       "    <tr>\n",
       "      <th></th>\n",
       "      <th>count</th>\n",
       "      <th>mean</th>\n",
       "      <th>sum</th>\n",
       "    </tr>\n",
       "    <tr>\n",
       "      <th>segment</th>\n",
       "      <th></th>\n",
       "      <th></th>\n",
       "      <th></th>\n",
       "    </tr>\n",
       "  </thead>\n",
       "  <tbody>\n",
       "    <tr>\n",
       "      <th>D</th>\n",
       "      <td>558</td>\n",
       "      <td>9.1101</td>\n",
       "      <td>5083.4541</td>\n",
       "    </tr>\n",
       "    <tr>\n",
       "      <th>C</th>\n",
       "      <td>558</td>\n",
       "      <td>32.4291</td>\n",
       "      <td>18095.4428</td>\n",
       "    </tr>\n",
       "    <tr>\n",
       "      <th>B</th>\n",
       "      <td>558</td>\n",
       "      <td>104.2772</td>\n",
       "      <td>58186.6778</td>\n",
       "    </tr>\n",
       "    <tr>\n",
       "      <th>A</th>\n",
       "      <td>558</td>\n",
       "      <td>279.5215</td>\n",
       "      <td>155973.0238</td>\n",
       "    </tr>\n",
       "  </tbody>\n",
       "</table>\n",
       "</div>"
      ],
      "text/plain": [
       "          clv                     \n",
       "        count     mean         sum\n",
       "segment                           \n",
       "D         558   9.1101   5083.4541\n",
       "C         558  32.4291  18095.4428\n",
       "B         558 104.2772  58186.6778\n",
       "A         558 279.5215 155973.0238"
      ]
     },
     "execution_count": 68,
     "metadata": {},
     "output_type": "execute_result"
    }
   ],
   "source": [
    "cltv.groupby(\"segment\").agg({\"clv\": [\"count\", \"mean\", \"sum\"]})"
   ]
  },
  {
   "cell_type": "markdown",
   "id": "a5527403",
   "metadata": {
    "papermill": {
     "duration": 0.037862,
     "end_time": "2023-10-22T15:51:28.153499",
     "exception": false,
     "start_time": "2023-10-22T15:51:28.115637",
     "status": "completed"
    },
    "tags": []
   },
   "source": [
    "<div style=\"border-radius:10px; border:#D0C2F0 solid; padding: 15px; background-color: #FFF0F4; font-size:100%; text-align:left\">\n",
    "\n",
    "<h3 align=\"left\"><font color='#5E5273'>📄 Report</font></h3>\n",
    "    \n",
    "* The results clearly show that customers in segments A and B generate significantly higher revenue. Therefore, allocating a substantial portion of the company's advertising and marketing budget to these groups is likely to lead to the most substantial increase in the company's medium to long-term revenues."
   ]
  }
 ],
 "metadata": {
  "kernelspec": {
   "display_name": "Python 3",
   "language": "python",
   "name": "python3"
  },
  "language_info": {
   "codemirror_mode": {
    "name": "ipython",
    "version": 3
   },
   "file_extension": ".py",
   "mimetype": "text/x-python",
   "name": "python",
   "nbconvert_exporter": "python",
   "pygments_lexer": "ipython3",
   "version": "3.10.12"
  },
  "papermill": {
   "default_parameters": {},
   "duration": 34.18878,
   "end_time": "2023-10-22T15:51:29.117307",
   "environment_variables": {},
   "exception": null,
   "input_path": "__notebook__.ipynb",
   "output_path": "__notebook__.ipynb",
   "parameters": {},
   "start_time": "2023-10-22T15:50:54.928527",
   "version": "2.4.0"
  }
 },
 "nbformat": 4,
 "nbformat_minor": 5
}
